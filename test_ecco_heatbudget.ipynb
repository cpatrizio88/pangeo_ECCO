{
 "cells": [
  {
   "cell_type": "markdown",
   "metadata": {},
   "source": [
    "# ECCO Ocean Mixed Layer Energy Budget \n",
    "\n",
    "The following sample code verifies that the ocean mixed layer energy budget is balanced in an example region, \n",
    "i.e., the ocean heat storage tendency is equal to the sum of surface heat fluxes \n",
    "plus ocean heat convergence (advection, diffusion), less surface radiation out the bottom."
   ]
  },
  {
   "cell_type": "code",
   "execution_count": 1,
   "metadata": {},
   "outputs": [
    {
     "name": "stderr",
     "output_type": "stream",
     "text": [
      "/srv/conda/envs/notebook/lib/python3.6/site-packages/tqdm/autonotebook/__init__.py:18: TqdmExperimentalWarning: Using `tqdm.autonotebook.tqdm` in notebook mode. Use `tqdm.tqdm` instead to force console mode (e.g. in jupyter console)\n",
      "  \" (e.g. in jupyter console)\", TqdmExperimentalWarning)\n"
     ]
    }
   ],
   "source": [
    "import xarray as xr\n",
    "import gcsfs\n",
    "import intake\n",
    "import numpy as np\n",
    "import matplotlib\n",
    "#import cmocean\n",
    "import stats\n",
    "import stats as st\n",
    "from matplotlib import pyplot as plt\n",
    "%matplotlib inline"
   ]
  },
  {
   "cell_type": "markdown",
   "metadata": {},
   "source": [
    "Set up plotting parameters."
   ]
  },
  {
   "cell_type": "code",
   "execution_count": 2,
   "metadata": {},
   "outputs": [],
   "source": [
    "matplotlib.rcParams.update({'font.size': 16})\n",
    "matplotlib.rcParams.update({'axes.titlesize': 16})\n",
    "matplotlib.rcParams.update({'figure.figsize': (10,8)})\n",
    "matplotlib.rcParams.update({'lines.linewidth': 2})\n",
    "matplotlib.rcParams.update({'legend.fontsize': 18})\n",
    "matplotlib.rcParams.update({'mathtext.fontset': 'cm'})\n",
    "matplotlib.rcParams.update({'ytick.major.size': 3})\n",
    "matplotlib.rcParams.update({'axes.labelsize': 16})\n",
    "matplotlib.rcParams.update({'ytick.labelsize': 16})\n",
    "matplotlib.rcParams.update({'xtick.labelsize': 16})"
   ]
  },
  {
   "cell_type": "markdown",
   "metadata": {},
   "source": [
    "Open the Pangeo data catalog and load the **ECCOv4r3** product as an xarray Dataset. The dataset is *lazily* evaluated, which is a good thing considering the size is around 100 GB.  "
   ]
  },
  {
   "cell_type": "code",
   "execution_count": 3,
   "metadata": {},
   "outputs": [
    {
     "data": {
      "text/plain": [
       "['sea_surface_height',\n",
       " 'ECCOv4r3',\n",
       " 'SOSE',\n",
       " 'LLC4320_grid',\n",
       " 'LLC4320_SST',\n",
       " 'LLC4320_SSS',\n",
       " 'LLC4320_SSH',\n",
       " 'LLC4320_SSU',\n",
       " 'LLC4320_SSV',\n",
       " 'CESM_POP_hires_control',\n",
       " 'CESM_POP_hires_RCP8_5',\n",
       " 'GFDL_CM2_6_control_ocean_surface',\n",
       " 'GFDL_CM2_6_control_ocean_3D',\n",
       " 'GFDL_CM2_6_one_percent_ocean_surface',\n",
       " 'GFDL_CM2_6_one_percent_ocean_3D',\n",
       " 'GFDL_CM2_6_grid']"
      ]
     },
     "execution_count": 3,
     "metadata": {},
     "output_type": "execute_result"
    }
   ],
   "source": [
    "cat = intake.open_catalog('catalog.yaml')\n",
    "list(cat)"
   ]
  },
  {
   "cell_type": "code",
   "execution_count": 4,
   "metadata": {},
   "outputs": [
    {
     "data": {
      "text/plain": [
       "<xarray.Dataset>\n",
       "Dimensions:    (face: 13, i: 90, i_g: 90, j: 90, j_g: 90, k: 50, k_l: 50, k_p1: 51, k_u: 50, time: 288, time_snp: 287)\n",
       "Coordinates:\n",
       "    Depth      (face, j, i) float32 dask.array<shape=(13, 90, 90), chunksize=(13, 90, 90)>\n",
       "    PHrefC     (k) float32 dask.array<shape=(50,), chunksize=(50,)>\n",
       "    PHrefF     (k_p1) float32 dask.array<shape=(51,), chunksize=(51,)>\n",
       "    XC         (face, j, i) float32 dask.array<shape=(13, 90, 90), chunksize=(13, 90, 90)>\n",
       "    XG         (face, j_g, i_g) float32 dask.array<shape=(13, 90, 90), chunksize=(13, 90, 90)>\n",
       "    YC         (face, j, i) float32 dask.array<shape=(13, 90, 90), chunksize=(13, 90, 90)>\n",
       "    YG         (face, j_g, i_g) float32 dask.array<shape=(13, 90, 90), chunksize=(13, 90, 90)>\n",
       "    Z          (k) float32 dask.array<shape=(50,), chunksize=(50,)>\n",
       "    Zl         (k_l) float32 dask.array<shape=(50,), chunksize=(50,)>\n",
       "    Zp1        (k_p1) float32 dask.array<shape=(51,), chunksize=(51,)>\n",
       "    Zu         (k_u) float32 dask.array<shape=(50,), chunksize=(50,)>\n",
       "    drC        (k_p1) float32 dask.array<shape=(51,), chunksize=(51,)>\n",
       "    drF        (k) float32 dask.array<shape=(50,), chunksize=(50,)>\n",
       "    dxC        (face, j, i_g) float32 dask.array<shape=(13, 90, 90), chunksize=(13, 90, 90)>\n",
       "    dxG        (face, j_g, i) float32 dask.array<shape=(13, 90, 90), chunksize=(13, 90, 90)>\n",
       "    dyC        (face, j_g, i) float32 dask.array<shape=(13, 90, 90), chunksize=(13, 90, 90)>\n",
       "    dyG        (face, j, i_g) float32 dask.array<shape=(13, 90, 90), chunksize=(13, 90, 90)>\n",
       "  * face       (face) int64 0 1 2 3 4 5 6 7 8 9 10 11 12\n",
       "    hFacC      (k, face, j, i) float32 dask.array<shape=(50, 13, 90, 90), chunksize=(50, 13, 90, 90)>\n",
       "    hFacS      (k, face, j_g, i) float32 dask.array<shape=(50, 13, 90, 90), chunksize=(50, 13, 90, 90)>\n",
       "    hFacW      (k, face, j, i_g) float32 dask.array<shape=(50, 13, 90, 90), chunksize=(50, 13, 90, 90)>\n",
       "  * i          (i) int64 0 1 2 3 4 5 6 7 8 9 ... 80 81 82 83 84 85 86 87 88 89\n",
       "  * i_g        (i_g) int64 0 1 2 3 4 5 6 7 8 9 ... 80 81 82 83 84 85 86 87 88 89\n",
       "    iter       (time) int64 dask.array<shape=(288,), chunksize=(1,)>\n",
       "    iter_snp   (time_snp) int64 dask.array<shape=(287,), chunksize=(1,)>\n",
       "  * j          (j) int64 0 1 2 3 4 5 6 7 8 9 ... 80 81 82 83 84 85 86 87 88 89\n",
       "  * j_g        (j_g) int64 0 1 2 3 4 5 6 7 8 9 ... 80 81 82 83 84 85 86 87 88 89\n",
       "  * k          (k) int64 0 1 2 3 4 5 6 7 8 9 ... 40 41 42 43 44 45 46 47 48 49\n",
       "  * k_l        (k_l) int64 0 1 2 3 4 5 6 7 8 9 ... 40 41 42 43 44 45 46 47 48 49\n",
       "  * k_p1       (k_p1) int64 0 1 2 3 4 5 6 7 8 9 ... 42 43 44 45 46 47 48 49 50\n",
       "  * k_u        (k_u) int64 0 1 2 3 4 5 6 7 8 9 ... 40 41 42 43 44 45 46 47 48 49\n",
       "    rA         (face, j, i) float32 dask.array<shape=(13, 90, 90), chunksize=(13, 90, 90)>\n",
       "    rAs        (face, j_g, i) float32 dask.array<shape=(13, 90, 90), chunksize=(13, 90, 90)>\n",
       "    rAw        (face, j, i_g) float32 dask.array<shape=(13, 90, 90), chunksize=(13, 90, 90)>\n",
       "    rAz        (face, j_g, i_g) float32 dask.array<shape=(13, 90, 90), chunksize=(13, 90, 90)>\n",
       "  * time       (time) datetime64[ns] 1992-01-15 1992-02-13 ... 2015-12-14\n",
       "  * time_snp   (time_snp) datetime64[ns] 1992-02-01 1992-03-01 ... 2015-12-01\n",
       "Data variables:\n",
       "    ADVr_SLT   (time, k_l, face, j, i) float32 dask.array<shape=(288, 50, 13, 90, 90), chunksize=(1, 50, 13, 90, 90)>\n",
       "    ADVr_TH    (time, k_l, face, j, i) float32 dask.array<shape=(288, 50, 13, 90, 90), chunksize=(1, 50, 13, 90, 90)>\n",
       "    ADVx_SLT   (time, k, face, j, i_g) float32 dask.array<shape=(288, 50, 13, 90, 90), chunksize=(1, 50, 13, 90, 90)>\n",
       "    ADVx_TH    (time, k, face, j, i_g) float32 dask.array<shape=(288, 50, 13, 90, 90), chunksize=(1, 50, 13, 90, 90)>\n",
       "    ADVy_SLT   (time, k, face, j_g, i) float32 dask.array<shape=(288, 50, 13, 90, 90), chunksize=(1, 50, 13, 90, 90)>\n",
       "    ADVy_TH    (time, k, face, j_g, i) float32 dask.array<shape=(288, 50, 13, 90, 90), chunksize=(1, 50, 13, 90, 90)>\n",
       "    DFrE_SLT   (time, k_l, face, j, i) float32 dask.array<shape=(288, 50, 13, 90, 90), chunksize=(1, 50, 13, 90, 90)>\n",
       "    DFrE_TH    (time, k_l, face, j, i) float32 dask.array<shape=(288, 50, 13, 90, 90), chunksize=(1, 50, 13, 90, 90)>\n",
       "    DFrI_SLT   (time, k_l, face, j, i) float32 dask.array<shape=(288, 50, 13, 90, 90), chunksize=(1, 50, 13, 90, 90)>\n",
       "    DFrI_TH    (time, k_l, face, j, i) float32 dask.array<shape=(288, 50, 13, 90, 90), chunksize=(1, 50, 13, 90, 90)>\n",
       "    DFxE_SLT   (time, k, face, j, i_g) float32 dask.array<shape=(288, 50, 13, 90, 90), chunksize=(1, 50, 13, 90, 90)>\n",
       "    DFxE_TH    (time, k, face, j, i_g) float32 dask.array<shape=(288, 50, 13, 90, 90), chunksize=(1, 50, 13, 90, 90)>\n",
       "    DFyE_SLT   (time, k, face, j_g, i) float32 dask.array<shape=(288, 50, 13, 90, 90), chunksize=(1, 50, 13, 90, 90)>\n",
       "    DFyE_TH    (time, k, face, j_g, i) float32 dask.array<shape=(288, 50, 13, 90, 90), chunksize=(1, 50, 13, 90, 90)>\n",
       "    ETAN       (time, face, j, i) float32 dask.array<shape=(288, 13, 90, 90), chunksize=(1, 13, 90, 90)>\n",
       "    ETAN_snp   (time_snp, face, j, i) float32 dask.array<shape=(287, 13, 90, 90), chunksize=(1, 13, 90, 90)>\n",
       "    GEOFLX     (face, j, i) float32 dask.array<shape=(13, 90, 90), chunksize=(7, 90, 90)>\n",
       "    SALT       (time, k, face, j, i) float32 dask.array<shape=(288, 50, 13, 90, 90), chunksize=(1, 50, 13, 90, 90)>\n",
       "    SALT_snp   (time_snp, k, face, j, i) float32 dask.array<shape=(287, 50, 13, 90, 90), chunksize=(1, 50, 13, 90, 90)>\n",
       "    SFLUX      (time, face, j, i) float32 dask.array<shape=(288, 13, 90, 90), chunksize=(1, 13, 90, 90)>\n",
       "    TFLUX      (time, face, j, i) float32 dask.array<shape=(288, 13, 90, 90), chunksize=(1, 13, 90, 90)>\n",
       "    THETA      (time, k, face, j, i) float32 dask.array<shape=(288, 50, 13, 90, 90), chunksize=(1, 50, 13, 90, 90)>\n",
       "    THETA_snp  (time_snp, k, face, j, i) float32 dask.array<shape=(287, 50, 13, 90, 90), chunksize=(1, 50, 13, 90, 90)>\n",
       "    UVELMASS   (time, k, face, j, i_g) float32 dask.array<shape=(288, 50, 13, 90, 90), chunksize=(1, 50, 13, 90, 90)>\n",
       "    VVELMASS   (time, k, face, j_g, i) float32 dask.array<shape=(288, 50, 13, 90, 90), chunksize=(1, 50, 13, 90, 90)>\n",
       "    WVELMASS   (time, k_l, face, j, i) float32 dask.array<shape=(288, 50, 13, 90, 90), chunksize=(1, 50, 13, 90, 90)>\n",
       "    oceFWflx   (time, face, j, i) float32 dask.array<shape=(288, 13, 90, 90), chunksize=(1, 13, 90, 90)>\n",
       "    oceQsw     (time, face, j, i) float32 dask.array<shape=(288, 13, 90, 90), chunksize=(1, 13, 90, 90)>\n",
       "    oceSPtnd   (time, k, face, j, i) float32 dask.array<shape=(288, 50, 13, 90, 90), chunksize=(1, 50, 13, 90, 90)>"
      ]
     },
     "execution_count": 4,
     "metadata": {},
     "output_type": "execute_result"
    }
   ],
   "source": [
    "ds = cat.ECCOv4r3.to_dask()\n",
    "ds"
   ]
  },
  {
   "cell_type": "code",
   "execution_count": 5,
   "metadata": {},
   "outputs": [
    {
     "data": {
      "text/plain": [
       "0.134190544604"
      ]
     },
     "execution_count": 5,
     "metadata": {},
     "output_type": "execute_result"
    }
   ],
   "source": [
    "ds.nbytes / 1e12"
   ]
  },
  {
   "cell_type": "markdown",
   "metadata": {},
   "source": [
    "Drop the coordinates from the main dataset; a trick to make things work a bit faster."
   ]
  },
  {
   "cell_type": "code",
   "execution_count": 6,
   "metadata": {},
   "outputs": [],
   "source": [
    "coords = ds.coords.to_dataset().reset_coords()\n",
    "ds = ds.reset_coords(drop=True)"
   ]
  },
  {
   "cell_type": "markdown",
   "metadata": {},
   "source": [
    "Load ECCO mixed layer depth from my **Google Cloud Bucket**. Data can be easily and inexpensively be stored on the **Google cloud** here: https://cloud.google.com/"
   ]
  },
  {
   "cell_type": "code",
   "execution_count": 7,
   "metadata": {},
   "outputs": [],
   "source": [
    "ds_MXLDEPTH = xr.open_zarr(gcsfs.GCSMap('ecco-data/MXLDEPTH'))\n",
    "mxldepth = ds_MXLDEPTH.MXLDEPTH"
   ]
  },
  {
   "cell_type": "markdown",
   "metadata": {},
   "source": [
    "For some reason the mixed layer depth coordinate indices are displaced by +1 in relation to the ECCO data stored on Pangeo. The coordinates need to be matched for future calculations. "
   ]
  },
  {
   "cell_type": "code",
   "execution_count": 8,
   "metadata": {},
   "outputs": [
    {
     "data": {
      "text/plain": [
       "<xarray.DataArray 'MXLDEPTH' (face: 13, time: 288, j: 90, i: 90)>\n",
       "dask.array<shape=(13, 288, 90, 90), dtype=float64, chunksize=(1, 288, 90, 90)>\n",
       "Coordinates:\n",
       "  * i        (i) int64 0 1 2 3 4 5 6 7 8 9 10 ... 80 81 82 83 84 85 86 87 88 89\n",
       "  * j        (j) int64 0 1 2 3 4 5 6 7 8 9 10 ... 80 81 82 83 84 85 86 87 88 89\n",
       "    lat      (face, j, i) float64 dask.array<shape=(13, 90, 90), chunksize=(1, 90, 90)>\n",
       "    lon      (face, j, i) float64 dask.array<shape=(13, 90, 90), chunksize=(1, 90, 90)>\n",
       "    tim      (time) datetime64[ns] dask.array<shape=(288,), chunksize=(288,)>\n",
       "  * time     (time) float64 1.0 2.0 3.0 4.0 5.0 ... 285.0 286.0 287.0 288.0\n",
       "Dimensions without coordinates: face\n",
       "Attributes:\n",
       "    long_name:  Mixed-Layer Depth (>0)\n",
       "    units:      m"
      ]
     },
     "execution_count": 8,
     "metadata": {},
     "output_type": "execute_result"
    }
   ],
   "source": [
    "mxldepth.coords['i'] = coords['i']\n",
    "mxldepth.coords['j'] = coords['j']\n",
    "mxldepth"
   ]
  },
  {
   "cell_type": "markdown",
   "metadata": {},
   "source": [
    "Calculate climatological mean mixed layer depth. We will be using this later to mask grid points outside of the mixed layer. "
   ]
  },
  {
   "cell_type": "code",
   "execution_count": 9,
   "metadata": {},
   "outputs": [],
   "source": [
    "mxldepth_clim=mxldepth.mean(dim='time').load()"
   ]
  },
  {
   "cell_type": "markdown",
   "metadata": {},
   "source": [
    "Make a mask of points outside the ocean mixed layer:"
   ]
  },
  {
   "cell_type": "code",
   "execution_count": 10,
   "metadata": {},
   "outputs": [],
   "source": [
    "mxlpoints = np.abs(coords['Z']) <= mxldepth_clim"
   ]
  },
  {
   "cell_type": "markdown",
   "metadata": {},
   "source": [
    "Import the plotting library. This will help with mapping fields from the LLC90 grid that ECCO utilizes (see https://www.geosci-model-dev.net/8/3071/2015/gmd-8-3071-2015.pdf) to a standard latitude-longitude grid. "
   ]
  },
  {
   "cell_type": "code",
   "execution_count": 11,
   "metadata": {},
   "outputs": [],
   "source": [
    "import importlib\n",
    "import llcmapping\n",
    "importlib.reload(llcmapping)\n",
    "from llcmapping import LLCMapper"
   ]
  },
  {
   "cell_type": "markdown",
   "metadata": {},
   "source": [
    "`mapper` is the object we will use to plot fields later."
   ]
  },
  {
   "cell_type": "code",
   "execution_count": 12,
   "metadata": {},
   "outputs": [],
   "source": [
    "mapper = LLCMapper(coords)"
   ]
  },
  {
   "cell_type": "markdown",
   "metadata": {},
   "source": [
    "Let's test how long it takes to load sea-surface temperature (SST) into memory."
   ]
  },
  {
   "cell_type": "code",
   "execution_count": 13,
   "metadata": {},
   "outputs": [
    {
     "name": "stdout",
     "output_type": "stream",
     "text": [
      "CPU times: user 1min 12s, sys: 55.6 s, total: 2min 8s\n",
      "Wall time: 1min 9s\n"
     ]
    },
    {
     "data": {
      "text/plain": [
       "<xarray.DataArray 'THETA' (face: 13, j: 90, i: 90)>\n",
       "array([[[ 0.      ,  0.      , ...,  0.      ,  0.      ],\n",
       "        [ 0.      ,  0.      , ...,  0.      ,  0.      ],\n",
       "        ...,\n",
       "        [ 0.432548,  0.420362, ...,  0.243915,  0.291386],\n",
       "        [ 0.653515,  0.658455, ...,  0.427649,  0.498188]],\n",
       "\n",
       "       [[ 0.872101,  0.891548, ...,  0.602339,  0.697784],\n",
       "        [ 1.096168,  1.117599, ...,  0.774091,  0.891288],\n",
       "        ...,\n",
       "        [27.589699, 27.559296, ..., 26.44383 , 26.62003 ],\n",
       "        [27.37777 , 27.343906, ...,  0.      , 26.430416]],\n",
       "\n",
       "       ...,\n",
       "\n",
       "       [[27.479862, 27.624815, ...,  5.60189 ,  5.157408],\n",
       "        [27.488213, 27.622663, ...,  5.657171,  5.213162],\n",
       "        ...,\n",
       "        [27.444382, 27.641308, ...,  1.204041,  1.031747],\n",
       "        [27.411293, 27.615599, ...,  1.113161,  0.912151]],\n",
       "\n",
       "       [[ 4.696424,  4.21946 , ...,  0.      ,  0.      ],\n",
       "        [ 4.747999,  4.27007 , ...,  0.      ,  0.      ],\n",
       "        ...,\n",
       "        [ 0.851896,  0.651258, ...,  0.      ,  0.      ],\n",
       "        [ 0.711743,  0.503716, ...,  0.      ,  0.      ]]], dtype=float32)\n",
       "Coordinates:\n",
       "  * face     (face) int64 0 1 2 3 4 5 6 7 8 9 10 11 12\n",
       "  * i        (i) int64 0 1 2 3 4 5 6 7 8 9 10 ... 80 81 82 83 84 85 86 87 88 89\n",
       "  * j        (j) int64 0 1 2 3 4 5 6 7 8 9 10 ... 80 81 82 83 84 85 86 87 88 89\n",
       "    k        int64 0"
      ]
     },
     "execution_count": 13,
     "metadata": {},
     "output_type": "execute_result"
    }
   ],
   "source": [
    "%time ds.THETA.isel(k=0).mean(dim='time').load()"
   ]
  },
  {
   "cell_type": "markdown",
   "metadata": {},
   "source": [
    "`xgcm` is a python package for working with the datasets produced by numerical General Circulation Models (GCMs) and similar gridded datasets that are amenable to finite volume analysis. This will come in handy later when performing calculus on the LLC90 grid."
   ]
  },
  {
   "cell_type": "code",
   "execution_count": 14,
   "metadata": {},
   "outputs": [],
   "source": [
    "import xgcm\n",
    "\n",
    "# define the connectivity between faces\n",
    "face_connections = {'face':\n",
    "                    {0: {'X':  ((12, 'Y', False), (3, 'X', False)),\n",
    "                         'Y':  (None,             (1, 'Y', False))},\n",
    "                     1: {'X':  ((11, 'Y', False), (4, 'X', False)),\n",
    "                         'Y':  ((0, 'Y', False),  (2, 'Y', False))},\n",
    "                     2: {'X':  ((10, 'Y', False), (5, 'X', False)),\n",
    "                         'Y':  ((1, 'Y', False),  (6, 'X', False))},\n",
    "                     3: {'X':  ((0, 'X', False),  (9, 'Y', False)),\n",
    "                         'Y':  (None,             (4, 'Y', False))},\n",
    "                     4: {'X':  ((1, 'X', False),  (8, 'Y', False)),\n",
    "                         'Y':  ((3, 'Y', False),  (5, 'Y', False))},\n",
    "                     5: {'X':  ((2, 'X', False),  (7, 'Y', False)),\n",
    "                         'Y':  ((4, 'Y', False),  (6, 'Y', False))},\n",
    "                     6: {'X':  ((2, 'Y', False),  (7, 'X', False)),\n",
    "                         'Y':  ((5, 'Y', False),  (10, 'X', False))},\n",
    "                     7: {'X':  ((6, 'X', False),  (8, 'X', False)),\n",
    "                         'Y':  ((5, 'X', False),  (10, 'Y', False))},\n",
    "                     8: {'X':  ((7, 'X', False),  (9, 'X', False)),\n",
    "                         'Y':  ((4, 'X', False),  (11, 'Y', False))},\n",
    "                     9: {'X':  ((8, 'X', False),  None),\n",
    "                         'Y':  ((3, 'X', False),  (12, 'Y', False))},\n",
    "                     10: {'X': ((6, 'Y', False),  (11, 'X', False)),\n",
    "                          'Y': ((7, 'Y', False),  (2, 'X', False))},\n",
    "                     11: {'X': ((10, 'X', False), (12, 'X', False)),\n",
    "                          'Y': ((8, 'Y', False),  (1, 'X', False))},\n",
    "                     12: {'X': ((11, 'X', False), None),\n",
    "                          'Y': ((9, 'Y', False),  (0, 'X', False))}}}\n",
    "\n",
    "# create the grid object\n",
    "grid = xgcm.Grid(ds, periodic=False, face_connections=face_connections)"
   ]
  },
  {
   "cell_type": "markdown",
   "metadata": {},
   "source": [
    "Compute the vertical grid spacing and grid volume, and then load the required fields for the energy budget. Conservation of heat requires the following equation:"
   ]
  },
  {
   "cell_type": "markdown",
   "metadata": {},
   "source": [
    "\n",
    "$\\large\n",
    "\\begin{align}\n",
    "\\frac{\\partial (s^{*} \\theta)}{\\partial t} = -\\nabla_{z^{*}} \\cdot (s^{*} \\mathbf{u} \\theta) - \\frac{\\partial (s^{*}w \\theta)}{\\partial z^{*}} +   s^{*}\\mathit{D}_\\theta + \\frac{s^{*}}{\\rho c_p} \\mathit{F}_\\theta \n",
    "\\end{align}$\n"
   ]
  },
  {
   "cell_type": "markdown",
   "metadata": {},
   "source": [
    "Here, $s^{*} = 1 + \\eta / H$ is a scale factor, which arises because the equations are expressed in terms of a re-scaled height coordinate:"
   ]
  },
  {
   "cell_type": "markdown",
   "metadata": {},
   "source": [
    "$\\large z^{*} = \\frac{ z - \\eta (x,y,t)}{H(x,y) + \\eta (x,y,t)} H(x,y)$"
   ]
  },
  {
   "cell_type": "markdown",
   "metadata": {},
   "source": [
    "where $\\eta$ is the surface height and $H$ is the ocean depth."
   ]
  },
  {
   "cell_type": "markdown",
   "metadata": {},
   "source": [
    "In the conservation of heat equation, $\\theta$ is the potential temperature, $\\mathbf{u}$ and $w$ are total horizontal and vertical velocities, respectively, $\\mathit{D_\\theta}$ is the heat flux convergence due to diffusive procesess, and $\\mathit{F_\\theta}$ is the surface forcing (sum of latent, sensible and radiative heat fluxes) and geothermal forcing term. "
   ]
  },
  {
   "cell_type": "markdown",
   "metadata": {},
   "source": [
    "Load the required monthly fields."
   ]
  },
  {
   "cell_type": "code",
   "execution_count": 15,
   "metadata": {},
   "outputs": [],
   "source": [
    "# First test for a single face\n",
    "importlib.reload(stats)\n",
    "# Load monthly temperature snapshot\n",
    "THETAsnp = ds.THETA_snp.isel(face=1)\n",
    "THETAsnp = THETAsnp.rename({'time_snp':'time'})\n",
    "THETAsnp_anom = THETAsnp\n",
    "\n",
    "\n",
    "# Load monthly surface height snapsnot\n",
    "ETANsnp = ds.ETAN_snp.isel(face=1)\n",
    "ETANsnp = ETANsnp.rename({'time_snp':'time'})\n",
    "ETANsnp_anom = ETANsnp\n",
    "\n",
    "\n",
    "# Ocean depth (m)\n",
    "Depth = coords.Depth.isel(face=1).load()\n",
    "\n",
    "# Calculate s\n",
    "sstar = (1+ETANsnp/Depth)\n",
    "\n",
    "# Calculate s^*theta (essentially equal to monthly anomalies of theta)\n",
    "HCsnp_anom = THETAsnp*sstar\n",
    "\n",
    "# Surface heat flux\n",
    "Qs_anom = ds.TFLUX.isel(face=1)\n",
    "oceQsw_anom = ds.oceQsw.isel(face=1)\n",
    "\n",
    "# Advection\n",
    "ADVx_TH_anom = ds.ADVx_TH.isel(face=1)\n",
    "ADVy_TH_anom = ds.ADVy_TH.isel(face=1)\n",
    "ADVr_TH_anom = ds.ADVr_TH.isel(face=1)\n",
    "\n",
    "# Diffusion \n",
    "DFxE_TH_anom = ds.DFxE_TH.isel(face=1)\n",
    "DFyE_TH_anom = ds.DFyE_TH.isel(face=1)\n",
    "DFrE_TH_anom = ds.DFrE_TH.isel(face=1)\n",
    "DFrI_TH_anom = ds.DFrI_TH.isel(face=1)\n",
    "\n",
    "\n",
    "# Calculate monthly anomalies\n",
    "#THETAsnp_anom, THETAsnp_clim = st.anom(THETAsnp)\n",
    "#ETANsnp_anom, ETANsnp_clim = st.anom(ETANsnp)\n",
    "\n",
    "#sstar_anom, sstar_clim = st.anom(sstar)\n",
    "#HCsnp_anom, HCsnp_clim = st.anom(THETAsnp*sstar) \n",
    "#Qs_anom, Qs_clim = st.anom(Qs_anom)\n",
    "#oceQsw_anom, oceQsw_clim = st.anom(oceQsw_anom)\n",
    "\n",
    "#ADVx_TH_anom, ADVx_TH_clim = st.anom(ADVx_TH_anom)\n",
    "#ADVy_TH_anom, ADVy_TH_clim  = st.anom(ADVy_TH_anom)\n",
    "#ADVr_TH_anom, ADVr_TH_clim  = st.anom(ADVr_TH_anom)\n",
    "\n",
    "#DFxE_TH_anom, DFxE_TH_clim = st.anom(DFxE_TH_anom)\n",
    "#DFyE_TH_anom, DFyE_TH_clim = st.anom(DFyE_TH_anom)\n",
    "#DFrE_TH_anom, DFrE_TH_clim = st.anom(DFrE_TH_anom)\n",
    "#DFrI_TH_anom, DFrI_TH_clim = st.anom(DFrI_TH_anom)"
   ]
  },
  {
   "cell_type": "code",
   "execution_count": 16,
   "metadata": {},
   "outputs": [],
   "source": [
    "#THETAsnp_anom = THETAsnp_clim.rename({'month':'time'})\n",
    "#ETANsnp_anom = ETANsnp_clim.rename({'month':'time'})\n",
    "#HCsnp_anom = HCsnp_clim.rename({'month':'time'})\n",
    "#Qs_anom = Qs_clim.rename({'month':'time'})\n",
    "#oceQsw_anom = oceQsw_clim.rename({'month':'time'})\n",
    "\n",
    "#ADVx_TH_anom = ADVx_TH_clim.rename({'month':'time'})\n",
    "#ADVy_TH_anom = ADVy_TH_clim.rename({'month':'time'})\n",
    "#ADVr_TH_anom = ADVr_TH_clim.rename({'month':'time'})\n",
    "\n",
    "#DFxE_TH_anom = DFxE_TH_clim.rename({'month':'time'})\n",
    "#DFyE_TH_anom = DFyE_TH_clim.rename({'month':'time'})\n",
    "#DFrE_TH_anom = DFrE_TH_clim.rename({'month':'time'})\n",
    "#DFrI_TH_anom = DFrI_TH_clim.rename({'month':'time'})"
   ]
  },
  {
   "cell_type": "markdown",
   "metadata": {},
   "source": [
    "Note that $s^{*}$ is very small, such that $s^{*}\\theta \\approx \\theta$."
   ]
  },
  {
   "cell_type": "code",
   "execution_count": 17,
   "metadata": {},
   "outputs": [
    {
     "data": {
      "text/plain": [
       "<matplotlib.collections.QuadMesh at 0x7fb430c4ef98>"
      ]
     },
     "execution_count": 17,
     "metadata": {},
     "output_type": "execute_result"
    },
    {
     "data": {
      "image/png": "[encoded data removed]",
      "text/plain": [
       "<Figure size 720x576 with 2 Axes>"
      ]
     },
     "metadata": {
      "needs_background": "light"
     },
     "output_type": "display_data"
    },
    {
     "data": {
      "image/png": "[encoded data removed]",
      "text/plain": [
       "<Figure size 720x576 with 2 Axes>"
      ]
     },
     "metadata": {
      "needs_background": "light"
     },
     "output_type": "display_data"
    }
   ],
   "source": [
    "plt.figure()\n",
    "THETAsnp_anom[10,1,:].plot.pcolormesh(cmap='RdBu_r')\n",
    "plt.figure()\n",
    "HCsnp_anom[10,1,:].plot.pcolormesh(cmap='RdBu_r')"
   ]
  },
  {
   "cell_type": "markdown",
   "metadata": {},
   "source": [
    "Before doing the budget calculations, a few parameters need to be defined:"
   ]
  },
  {
   "cell_type": "code",
   "execution_count": 18,
   "metadata": {},
   "outputs": [],
   "source": [
    "dt = coords.time_snp[1:].load()\n",
    "dt = dt.rename({'time_snp': 'time'})\n",
    "# delta t in seconds. Note: divide by 10**9 to convert nanoseconds to seconds\n",
    "dt.values = [float(t)/10**9 for t in np.diff(coords.time_snp)]\n",
    "\n",
    "# time axis of dt should be the same as of the monthly averages\n",
    "dt.time.values = coords.time[1:-1].values"
   ]
  },
  {
   "cell_type": "code",
   "execution_count": null,
   "metadata": {},
   "outputs": [],
   "source": [
    "rho0 = 1029 #sea-water density (kg/m^3)\n",
    "c_p = 3994 #sea-water heat capacity (J/kg/K)\n",
    "\n",
    "# Constants for surface heat penetration (from Table 2 of Paulson and Simpson, 1977)\n",
    "R = 0.62\n",
    "zeta1 = 0.6\n",
    "zeta2 = 20.0"
   ]
  },
  {
   "cell_type": "code",
   "execution_count": null,
   "metadata": {},
   "outputs": [],
   "source": [
    "dxG = coords.dxG.isel(face=1).load()\n",
    "dyG = coords.dyG.isel(face=1).load()"
   ]
  },
  {
   "cell_type": "code",
   "execution_count": null,
   "metadata": {},
   "outputs": [],
   "source": [
    "# Vertical grid spacing\n",
    "drF = coords.drF.load()\n",
    "hFacC = coords.hFacC.isel(face=1).load()\n",
    "rA = coords.rA.isel(face=1).load()\n",
    "vol = drF*hFacC*rA.load()"
   ]
  },
  {
   "cell_type": "code",
   "execution_count": null,
   "metadata": {},
   "outputs": [],
   "source": [
    "# Make copy of hFacC\n",
    "mskC = hFacC.copy(deep=True).load()\n",
    "\n",
    "# Change all fractions (ocean) to 1. land = 0\n",
    "mskC.values[mskC.values>0] = 1"
   ]
  },
  {
   "cell_type": "code",
   "execution_count": null,
   "metadata": {},
   "outputs": [],
   "source": [
    "# Make 2D land mask for surface (This is just for plotting/mapping purposes)\n",
    "land_mask = mskC[0]\n",
    "land_mask.values[land_mask.values==0] = np.nan"
   ]
  },
  {
   "cell_type": "markdown",
   "metadata": {},
   "source": [
    "## Evaluating the heat budget"
   ]
  },
  {
   "cell_type": "markdown",
   "metadata": {},
   "source": [
    "### Total Tendency"
   ]
  },
  {
   "cell_type": "code",
   "execution_count": null,
   "metadata": {},
   "outputs": [],
   "source": [
    "# Total tendency (degC/month)\n",
    "tendH_perMonth = (HCsnp_anom.shift(time=-1)-HCsnp_anom)[:-1]\n",
    "#tendH_perMonth = HCsnp_anom[:]-HCsnp_anom[:-1]"
   ]
  },
  {
   "cell_type": "code",
   "execution_count": null,
   "metadata": {},
   "outputs": [
    {
     "data": {
      "text/plain": [
       "<xarray.DataArray (time: 286, k: 50, j: 90, i: 90)>\n",
       "dask.array<shape=(286, 50, 90, 90), dtype=float32, chunksize=(1, 50, 90, 90)>\n",
       "Coordinates:\n",
       "    face     int64 1\n",
       "  * i        (i) int64 0 1 2 3 4 5 6 7 8 9 10 ... 80 81 82 83 84 85 86 87 88 89\n",
       "  * j        (j) int64 0 1 2 3 4 5 6 7 8 9 10 ... 80 81 82 83 84 85 86 87 88 89\n",
       "  * k        (k) int64 0 1 2 3 4 5 6 7 8 9 10 ... 40 41 42 43 44 45 46 47 48 49\n",
       "  * time     (time) datetime64[ns] 1992-02-01 1992-03-01 ... 2015-11-01"
      ]
     },
     "execution_count": 25,
     "metadata": {},
     "output_type": "execute_result"
    }
   ],
   "source": [
    "tendH_perMonth"
   ]
  },
  {
   "cell_type": "code",
   "execution_count": null,
   "metadata": {},
   "outputs": [],
   "source": [
    "# Make sure time axis is the same as for the monthly variables\n",
    "tendH_perMonth.time.values = ds.time[1:-1].values"
   ]
  },
  {
   "cell_type": "code",
   "execution_count": null,
   "metadata": {},
   "outputs": [],
   "source": [
    "# Convert tendency from 1/month to 1/s\n",
    "tendH_perSec = tendH_perMonth/dt"
   ]
  },
  {
   "cell_type": "code",
   "execution_count": null,
   "metadata": {},
   "outputs": [
    {
     "data": {
      "text/plain": [
       "<xarray.DataArray (time: 286, k: 50, j: 90, i: 90)>\n",
       "array([[[[ 3.707782e-08, ..., -2.619417e-08],\n",
       "         ...,\n",
       "         [-5.091744e-08, ...,  1.315687e-07]],\n",
       "\n",
       "        ...,\n",
       "\n",
       "        [[ 0.000000e+00, ...,  0.000000e+00],\n",
       "         ...,\n",
       "         [ 0.000000e+00, ...,  0.000000e+00]]],\n",
       "\n",
       "\n",
       "       ...,\n",
       "\n",
       "\n",
       "       [[[ 6.034143e-07, ...,  4.473938e-07],\n",
       "         ...,\n",
       "         [-5.108000e-07, ..., -2.951732e-07]],\n",
       "\n",
       "        ...,\n",
       "\n",
       "        [[ 0.000000e+00, ...,  0.000000e+00],\n",
       "         ...,\n",
       "         [ 0.000000e+00, ...,  0.000000e+00]]]])\n",
       "Coordinates:\n",
       "    face     int64 1\n",
       "  * i        (i) int64 0 1 2 3 4 5 6 7 8 9 10 ... 80 81 82 83 84 85 86 87 88 89\n",
       "  * j        (j) int64 0 1 2 3 4 5 6 7 8 9 10 ... 80 81 82 83 84 85 86 87 88 89\n",
       "  * k        (k) int64 0 1 2 3 4 5 6 7 8 9 10 ... 40 41 42 43 44 45 46 47 48 49\n",
       "  * time     (time) datetime64[ns] 1992-02-13 1992-03-15 ... 2015-11-14"
      ]
     },
     "execution_count": 28,
     "metadata": {},
     "output_type": "execute_result"
    }
   ],
   "source": [
    "tendH_perSec.load()"
   ]
  },
  {
   "cell_type": "code",
   "execution_count": null,
   "metadata": {},
   "outputs": [],
   "source": [
    "# Define tendH array with correct dimensions\n",
    "tendH = xr.DataArray(np.nan*np.zeros([np.shape(tendH_perSec)[0]+2,50,90,90]),\n",
    "                     coords={'time': range(np.shape(tendH_perSec)[0]+2),'k': np.array(range(0,50)),\n",
    "                             'j': np.array(range(0,90)),'i': np.array(range(0,90))},dims=['time','k','j','i'])"
   ]
  },
  {
   "cell_type": "code",
   "execution_count": null,
   "metadata": {},
   "outputs": [],
   "source": [
    "tendH.time.values = ds.time.values\n",
    "\n",
    "# Add coordinates\n",
    "tendH['XC'] = coords.XC.sel(face=1)\n",
    "tendH['YC'] = coords.YC.sel(face=1)\n",
    "tendH['Z'] = coords.Z"
   ]
  },
  {
   "cell_type": "code",
   "execution_count": null,
   "metadata": {},
   "outputs": [
    {
     "data": {
      "text/plain": [
       "<xarray.DataArray (time: 288, k: 50, j: 90, i: 90)>\n",
       "array([[[[nan, ..., nan],\n",
       "         ...,\n",
       "         [nan, ..., nan]],\n",
       "\n",
       "        ...,\n",
       "\n",
       "        [[nan, ..., nan],\n",
       "         ...,\n",
       "         [nan, ..., nan]]],\n",
       "\n",
       "\n",
       "       ...,\n",
       "\n",
       "\n",
       "       [[[nan, ..., nan],\n",
       "         ...,\n",
       "         [nan, ..., nan]],\n",
       "\n",
       "        ...,\n",
       "\n",
       "        [[nan, ..., nan],\n",
       "         ...,\n",
       "         [nan, ..., nan]]]])\n",
       "Coordinates:\n",
       "  * time     (time) datetime64[ns] 1992-01-15 1992-02-13 ... 2015-12-14\n",
       "  * k        (k) int64 0 1 2 3 4 5 6 7 8 9 10 ... 40 41 42 43 44 45 46 47 48 49\n",
       "  * j        (j) int64 0 1 2 3 4 5 6 7 8 9 10 ... 80 81 82 83 84 85 86 87 88 89\n",
       "  * i        (i) int64 0 1 2 3 4 5 6 7 8 9 10 ... 80 81 82 83 84 85 86 87 88 89\n",
       "    face     int64 1\n",
       "    XC       (j, i) float32 -37.5 -36.5 -35.5 -34.5 ... 48.5 49.5 50.5 51.5\n",
       "    YC       (j, i) float32 -56.73891 -56.73891 -56.73891 ... 9.482398 9.482398\n",
       "    Z        (k) float32 -5.0 -15.0 -25.0 -35.0 ... -5039.25 -5461.25 -5906.25"
      ]
     },
     "execution_count": 31,
     "metadata": {},
     "output_type": "execute_result"
    }
   ],
   "source": [
    "# Total tendency (degC/s)\n",
    "tendH.values[1:-1] = tendH_perSec.values\n",
    "tendH.load()"
   ]
  },
  {
   "cell_type": "code",
   "execution_count": null,
   "metadata": {},
   "outputs": [],
   "source": [
    "# Convert from degC/s to W/m^2\n",
    "tendH = (rho0*c_p*drF*hFacC)*tendH"
   ]
  },
  {
   "cell_type": "markdown",
   "metadata": {},
   "source": [
    "### Forcing "
   ]
  },
  {
   "cell_type": "code",
   "execution_count": null,
   "metadata": {},
   "outputs": [],
   "source": [
    "Z = coords.sel(face=1).Z.load()\n",
    "RF = np.concatenate([coords.sel(face=1).Zp1.values[:-1],[np.nan]])"
   ]
  },
  {
   "cell_type": "code",
   "execution_count": null,
   "metadata": {},
   "outputs": [],
   "source": [
    "q1 = R*np.exp(1.0/zeta1*RF[:-1]) + (1.0-R)*np.exp(1.0/zeta2*RF[:-1])\n",
    "q2 = R*np.exp(1.0/zeta1*RF[1:]) + (1.0-R)*np.exp(1.0/zeta2*RF[1:])"
   ]
  },
  {
   "cell_type": "code",
   "execution_count": null,
   "metadata": {},
   "outputs": [],
   "source": [
    "# Correction for the 200m cutoff\n",
    "zCut = np.where(Z < -200)[0][0]\n",
    "q1[zCut:] = 0\n",
    "q2[zCut-1:] = 0"
   ]
  },
  {
   "cell_type": "code",
   "execution_count": null,
   "metadata": {},
   "outputs": [],
   "source": [
    "# Save q1 and q2 as xarray data arrays\n",
    "q1 = xr.DataArray(q1,coords=[Z.k],dims=['k'])\n",
    "q2 = xr.DataArray(q2,coords=[Z.k],dims=['k'])"
   ]
  },
  {
   "cell_type": "markdown",
   "metadata": {},
   "source": [
    "#### Compute vertically penetrating shortwave flux"
   ]
  },
  {
   "cell_type": "code",
   "execution_count": null,
   "metadata": {},
   "outputs": [],
   "source": [
    "# Surface heat flux (below the surface)\n",
    "forcH = ((q1*(mskC==1)-q2*(mskC.shift(k=-1)==1))*oceQsw_anom).transpose('time','k','j','i')\n",
    "\n",
    "# Reset surface layer to zero\n",
    "forcH.values[:,0] = 0*forcH.values[:,0]"
   ]
  },
  {
   "cell_type": "code",
   "execution_count": null,
   "metadata": {},
   "outputs": [
    {
     "data": {
      "text/plain": [
       "<xarray.DataArray (time: 288, k: 50, j: 90, i: 90)>\n",
       "array([[[[126.251106, ..., 138.314294],\n",
       "         ...,\n",
       "         [161.145349, ..., 155.371849]],\n",
       "\n",
       "        ...,\n",
       "\n",
       "        [[  0.      , ...,   0.      ],\n",
       "         ...,\n",
       "         [  0.      , ...,   0.      ]]],\n",
       "\n",
       "\n",
       "       ...,\n",
       "\n",
       "\n",
       "       [[[168.273574, ..., 149.655965],\n",
       "         ...,\n",
       "         [136.516031, ..., 148.455296]],\n",
       "\n",
       "        ...,\n",
       "\n",
       "        [[  0.      , ...,   0.      ],\n",
       "         ...,\n",
       "         [  0.      , ...,   0.      ]]]])\n",
       "Coordinates:\n",
       "  * k        (k) int64 0 1 2 3 4 5 6 7 8 9 10 ... 40 41 42 43 44 45 46 47 48 49\n",
       "  * j        (j) int64 0 1 2 3 4 5 6 7 8 9 10 ... 80 81 82 83 84 85 86 87 88 89\n",
       "  * i        (i) int64 0 1 2 3 4 5 6 7 8 9 10 ... 80 81 82 83 84 85 86 87 88 89\n",
       "    face     int64 1\n",
       "  * time     (time) datetime64[ns] 1992-01-15 1992-02-13 ... 2015-12-14"
      ]
     },
     "execution_count": 38,
     "metadata": {},
     "output_type": "execute_result"
    }
   ],
   "source": [
    "forcH.load()"
   ]
  },
  {
   "cell_type": "code",
   "execution_count": null,
   "metadata": {},
   "outputs": [],
   "source": [
    "# Surface heat flux (at the sea surface)\n",
    "forcH[:,0] = ((Qs_anom - (1-(q1[0]-q2[0]))*oceQsw_anom)*mskC[0]).transpose('time','j','i')"
   ]
  },
  {
   "cell_type": "markdown",
   "metadata": {},
   "source": [
    "#### Load geothermal flux (may add later)"
   ]
  },
  {
   "cell_type": "code",
   "execution_count": null,
   "metadata": {},
   "outputs": [],
   "source": [
    "# Create 3d bathymetry mask\n",
    "mskC_shifted = mskC.shift(k=-1)\n",
    "mskC_shifted.values[-1,:,:] = 0\n",
    "mskb = mskC - mskC_shifted"
   ]
  },
  {
   "cell_type": "code",
   "execution_count": null,
   "metadata": {},
   "outputs": [],
   "source": [
    "geoflx2d = ds.GEOFLX.isel(face=1) \n",
    "geoflx3d = geoflx2d * mskb\n",
    "GEOFLX = geoflx3d.transpose('k','j','i') #Geothermal heat flux. Can add this to forcing later."
   ]
  },
  {
   "cell_type": "markdown",
   "metadata": {},
   "source": [
    "### Advection"
   ]
  },
  {
   "cell_type": "markdown",
   "metadata": {},
   "source": [
    "#### Horizontal Convergence"
   ]
  },
  {
   "cell_type": "code",
   "execution_count": null,
   "metadata": {},
   "outputs": [],
   "source": [
    "# For now, construct grid based on only one face. Will change later. \n",
    "grid = xgcm.Grid(ds.sel(face=1), periodic=False)"
   ]
  },
  {
   "cell_type": "code",
   "execution_count": null,
   "metadata": {},
   "outputs": [],
   "source": [
    "# Convergence of horizontal advection (degC/s)\n",
    "adv_hConvH = -(grid.diff(ADVx_TH_anom, 'X', boundary='extend') + \n",
    "               grid.diff(ADVy_TH_anom, 'Y', boundary='extend'))/vol\n",
    "\n",
    "#DF_TH_diff_anom = grid.diff_2d_vector({'X': DFxE_TH_anom, 'Y': DFyE_TH_anom}, boundary='fill')\n",
    "#DF_TH_conv_anom_vint = -((delz/v)*DF_TH_diff_anom['X']).sum(dim='k')-((delz/v)*DF_TH_diff_anom['Y']).sum(dim='k')"
   ]
  },
  {
   "cell_type": "code",
   "execution_count": null,
   "metadata": {},
   "outputs": [],
   "source": [
    "# Convert from degC/s to W/m^2\n",
    "adv_hConvH = (rho0*c_p*drF*hFacC)*adv_hConvH"
   ]
  },
  {
   "cell_type": "markdown",
   "metadata": {},
   "source": [
    "#### Vertical Convergence"
   ]
  },
  {
   "cell_type": "code",
   "execution_count": null,
   "metadata": {},
   "outputs": [],
   "source": [
    "# Convergence of the vertical advection (degC m^3/s)\n",
    "adv_vConvH = grid.diff(ADVr_TH_anom, 'Z', boundary='extend')/vol\n",
    "\n",
    "# Fix for bottom layer\n",
    "#adv_vConvH_temp.load()\n",
    "#adv_vConvH_temp[:,-1,:,:] = -ADVr_TH_anom[:,-1,:,:]"
   ]
  },
  {
   "cell_type": "code",
   "execution_count": null,
   "metadata": {},
   "outputs": [],
   "source": [
    "# Convert from degC/s to W/m^2\n",
    "adv_vConvH = (rho0*c_p*drF*hFacC)*adv_vConvH"
   ]
  },
  {
   "cell_type": "markdown",
   "metadata": {},
   "source": [
    "### Diffusion"
   ]
  },
  {
   "cell_type": "markdown",
   "metadata": {},
   "source": [
    "#### Horizontal Convergence"
   ]
  },
  {
   "cell_type": "code",
   "execution_count": null,
   "metadata": {},
   "outputs": [],
   "source": [
    "# Convergence of horizontal diffusion (degC/s)\n",
    "dif_hConvH = -(grid.diff(DFxE_TH_anom, 'X', boundary='extend') + \n",
    "               grid.diff(DFyE_TH_anom, 'Y', boundary='extend'))/vol"
   ]
  },
  {
   "cell_type": "code",
   "execution_count": null,
   "metadata": {},
   "outputs": [],
   "source": [
    "# Convert from degC/s to W/m^2\n",
    "dif_hConvH = (rho0*c_p*drF*hFacC)*dif_hConvH"
   ]
  },
  {
   "cell_type": "markdown",
   "metadata": {},
   "source": [
    "#### Vertical Convergence (explicit and implicit)"
   ]
  },
  {
   "cell_type": "code",
   "execution_count": null,
   "metadata": {},
   "outputs": [],
   "source": [
    "# Convergence of vertical diffusion (degC/s)\n",
    "dif_vConvH = (grid.diff(DFrE_TH_anom, 'Z', boundary='extend') \n",
    "                   + grid.diff(DFrI_TH_anom, 'Z', boundary='extend'))/vol\n",
    "\n",
    "#Fix for bottom layer\n",
    "#dif_vConvH_temp.load()\n",
    "#dif_vConvH_temp[:,-1,:,:] = -(DFrE_TH_anom + DFrI_TH_anom)[:,-1,:,:]"
   ]
  },
  {
   "cell_type": "code",
   "execution_count": null,
   "metadata": {},
   "outputs": [],
   "source": [
    "# Convert from degC/s to W/m^2\n",
    "dif_vConvH = (rho0*c_p*drF*hFacC)*dif_vConvH"
   ]
  },
  {
   "cell_type": "markdown",
   "metadata": {},
   "source": [
    "### Total Convergence"
   ]
  },
  {
   "cell_type": "code",
   "execution_count": null,
   "metadata": {},
   "outputs": [],
   "source": [
    "# Total convergence of advective flux\n",
    "adv_ConvH = adv_hConvH + adv_vConvH\n",
    "#adv_ConvH = adv_ConvH.transpose('time', 'k', 'j', 'i')\n",
    "adv_ConvH.load()\n",
    "\n",
    "# Total convergence of diffusive flux\n",
    "dif_ConvH = dif_hConvH + dif_vConvH\n",
    "#dif_ConvH = adv_ConvH.transpose('time', 'k', 'j', 'i')\n",
    "dif_ConvH.load()\n",
    "\n",
    "# Total convergence\n",
    "ConvH = adv_ConvH + dif_ConvH\n",
    "ConvH.load()"
   ]
  },
  {
   "cell_type": "markdown",
   "metadata": {},
   "source": [
    "### Sum of Convergence and Forcing"
   ]
  },
  {
   "cell_type": "code",
   "execution_count": null,
   "metadata": {},
   "outputs": [],
   "source": [
    "GEOFLX_anom = 0\n",
    "totalH = ConvH + forcH + GEOFLX_anom\n",
    "#totalH = ConvH + forcH + GEOFLX\n",
    "#totalH = totalH.transpose('time', 'k', 'j', 'i')\n",
    "totalH.load()"
   ]
  },
  {
   "cell_type": "code",
   "execution_count": null,
   "metadata": {},
   "outputs": [],
   "source": [
    "#Error in W/m^2\n",
    "error = totalH-tendH"
   ]
  },
  {
   "cell_type": "code",
   "execution_count": null,
   "metadata": {},
   "outputs": [],
   "source": [
    "totalH"
   ]
  },
  {
   "cell_type": "markdown",
   "metadata": {},
   "source": [
    "#Error in degC/s\n",
    "#error = error/(rho0*c_p*drF*hFacC)"
   ]
  },
  {
   "cell_type": "markdown",
   "metadata": {},
   "source": [
    "### Does the heat content tendency balance the sum of the convergence and forcing?"
   ]
  },
  {
   "cell_type": "code",
   "execution_count": null,
   "metadata": {},
   "outputs": [],
   "source": [
    "# Plot sums of the error \n",
    "#mxlpoints = mxlpoints.isel(face=1)\n",
    "error_sum = error.sum(dim='k').sum(dim='time')\n",
    "error_sum.load()"
   ]
  },
  {
   "cell_type": "code",
   "execution_count": null,
   "metadata": {},
   "outputs": [],
   "source": [
    "(error_sum*land_mask)[1:89,1:89].plot.pcolormesh(vmin=-0.1, vmax=0.1, cmap='RdBu_r')"
   ]
  },
  {
   "cell_type": "markdown",
   "metadata": {},
   "source": [
    "####  Plot time series of the different terms for arbitrarily chosen grid point"
   ]
  },
  {
   "cell_type": "code",
   "execution_count": null,
   "metadata": {},
   "outputs": [],
   "source": [
    "# Plot time series of the different terms for arbitrarily chosen grid point\n",
    "k = 15\n",
    "j = 10\n",
    "i = 10\n",
    "\n",
    "f, axes = plt.subplots(2, 1,figsize=(16,12))\n",
    "f.tight_layout()\n",
    "\n",
    "adv_ConvH = adv_ConvH.transpose('time', 'k', 'j', 'i')\n",
    "dif_ConvH = dif_ConvH.transpose('time', 'k', 'j', 'i')\n",
    "totalH = totalH.transpose('time', 'k', 'j', 'i')\n",
    "tendH = tendH.transpose('time', 'k', 'j', 'i')\n",
    "\n",
    "plt.subplot(2, 1, 1)\n",
    "plt.plot(tendH.time, tendH[:,k,j,i], lw=4, color='K', marker='.',label='total tendency')\n",
    "plt.plot(forcH.time, forcH[:,k,j,i], lw=2, color='C0', marker='.',label='forcing')\n",
    "plt.plot(adv_ConvH.time, adv_ConvH[:,k,j,i], lw=2, color='C1', marker='.',label='advection')\n",
    "plt.axhline(0,color='k',lw=1)\n",
    "plt.plot(dif_ConvH.time, dif_ConvH[:,k,j,i], lw=2, color='C2',label='diffusion')\n",
    "plt.setp(plt.gca(), 'xticklabels',[])\n",
    "plt.legend(loc='best',frameon=False,fontsize=14)\n",
    "\n",
    "plt.subplot(2, 1, 2)\n",
    "plt.plot(totalH.time, totalH[:,k,j,i], lw=4, color='red', marker='.',label='RHS')\n",
    "plt.plot(tendH.time, tendH[:,k,j,i], lw=2, color='blue', marker='.',label='LHS')\n",
    "plt.plot(tendH.time, totalH[:,k,j,i]-tendH[:,k,j,i], lw=2, color='k', marker='.',label='RHS - LHS')\n",
    "plt.legend(loc='best',frameon=False,fontsize=14)"
   ]
  },
  {
   "cell_type": "code",
   "execution_count": null,
   "metadata": {},
   "outputs": [],
   "source": [
    "error_std = (totalH[:,k,j,i]-tendH[:,k,j,i]).std()\n",
    "LHS_std = tendH[:,k,j,i].std()\n",
    "print('ratio of standard deviation of residual to standard deviation of heat content tendency:', (error_std/LHS_std).values)"
   ]
  },
  {
   "cell_type": "markdown",
   "metadata": {},
   "source": [
    "#### Vertical profiles for arbitrarily chosen point"
   ]
  },
  {
   "cell_type": "code",
   "execution_count": null,
   "metadata": {},
   "outputs": [],
   "source": [
    "t = 1\n",
    "j = 10\n",
    "i = 10\n",
    "\n",
    "f, axes = plt.subplots(1, 2, sharey=True, figsize=(12,7))\n",
    "f.tight_layout()\n",
    "\n",
    "plt.subplot(1, 2, 1)\n",
    "plt.plot(tendH[t,:,j,i],tendH.Z, lw=4, color='K', marker='.',label='total tendency')\n",
    "plt.plot(forcH[t,:,j,i],tendH.Z, lw=2, color='C0', marker='.',label='forcing')\n",
    "plt.plot(adv_ConvH[t,:,j,i],tendH.Z, lw=2, color='C1', marker='.',label='advection')\n",
    "plt.plot(dif_ConvH[t,:,j,i],tendH.Z, lw=2, color='C2', marker='.',label='diffusion')\n",
    "plt.axvline(0, color='k', lw=1)\n",
    "plt.legend(loc='lower left',frameon=False,fontsize=14)\n",
    "plt.ylim([-200,0])\n",
    "\n",
    "plt.subplot(1, 2, 2)\n",
    "plt.plot(totalH[t,:,j,i],tendH.Z, lw=4, color='red', marker='.',label='RHS')\n",
    "plt.plot(tendH[t,:,j,i],tendH.Z, lw=2, color='blue', marker='.',label='LHS')\n",
    "plt.plot(totalH[t,:,j,i]-tendH[t,:,j,i],tendH.Z, lw=2, color='k', marker='.',label='RHS - LHS')\n",
    "plt.axvline(0, color='k', lw=1)\n",
    "plt.setp(plt.gca(), 'yticklabels',[])\n",
    "plt.legend(loc='lower right',frameon=False,fontsize=14)\n",
    "plt.ylim([-200,0])"
   ]
  },
  {
   "cell_type": "markdown",
   "metadata": {},
   "source": [
    "#### Validate Seasonal Cycle of Energy Budget"
   ]
  },
  {
   "cell_type": "code",
   "execution_count": null,
   "metadata": {},
   "outputs": [],
   "source": [
    "#importlib.reload(stats)\n",
    "tendH_clim = tendH.groupby('time.month').mean(dim='time')\n",
    "forcH_clim = forcH.groupby('time.month').mean(dim='time')\n",
    "adv_ConvH_clim = adv_ConvH.groupby('time.month').mean(dim='time')\n",
    "dif_ConvH_clim = dif_ConvH.groupby('time.month').mean(dim='time')\n",
    "totalH_clim = totalH.groupby('time.month').mean(dim='time')"
   ]
  },
  {
   "cell_type": "code",
   "execution_count": null,
   "metadata": {},
   "outputs": [],
   "source": [
    "#Error in W/m^2\n",
    "error_clim = totalH_clim-tendH_clim"
   ]
  },
  {
   "cell_type": "code",
   "execution_count": null,
   "metadata": {},
   "outputs": [],
   "source": [
    "#Error in degC/s\n",
    "#error = error/(rho0*c_p*drF*hFacC)"
   ]
  },
  {
   "cell_type": "code",
   "execution_count": null,
   "metadata": {},
   "outputs": [],
   "source": [
    "error_clim_sum = error.sum(dim='k').sum(dim='time')\n",
    "error_clim_sum.load()"
   ]
  },
  {
   "cell_type": "code",
   "execution_count": null,
   "metadata": {},
   "outputs": [],
   "source": [
    "(error_clim_sum*land_mask)[1:89,1:89].plot.pcolormesh(vmin=-0.1, vmax=0.1, cmap='RdBu_r')"
   ]
  },
  {
   "cell_type": "code",
   "execution_count": null,
   "metadata": {},
   "outputs": [],
   "source": [
    "k=15\n",
    "i=10\n",
    "j=10\n",
    "\n",
    "plt.subplot(2, 1, 1)\n",
    "plt.plot(tendH_clim.month, tendH_clim[:,k,j,i], lw=4, color='K', marker='.',label='total tendency')\n",
    "plt.plot(forcH_clim.month, forcH_clim[:,k,j,i], lw=2, color='C0', marker='.',label='forcing')\n",
    "plt.plot(adv_ConvH_clim.month, adv_ConvH_clim[:,k,j,i], lw=2, color='C1', marker='.',label='advection')\n",
    "plt.axhline(0,color='k',lw=1)\n",
    "plt.plot(dif_ConvH_clim.month, dif_ConvH_clim[:,k,j,i], lw=2, color='C2',label='diffusion')\n",
    "plt.setp(plt.gca(), 'xticklabels',[])\n",
    "plt.legend(loc='best',frameon=False,fontsize=14)\n",
    "\n",
    "plt.subplot(2, 1, 2)\n",
    "plt.plot(totalH_clim.month, totalH_clim[:,k,j,i], lw=4, color='red', marker='.',label='RHS')\n",
    "plt.plot(tendH_clim.month, tendH_clim[:,k,j,i], lw=2, color='blue', marker='.',label='LHS')\n",
    "plt.plot(tendH_clim.month, totalH_clim[:,k,j,i]-tendH_clim[:,k,j,i], lw=2, color='k', marker='.',label='RHS - LHS')\n",
    "plt.legend(loc='best',frameon=False,fontsize=14)"
   ]
  },
  {
   "cell_type": "code",
   "execution_count": null,
   "metadata": {},
   "outputs": [],
   "source": [
    "test_clim_J = tendH[::12,k,j,i].mean(dim='time')\n",
    "test_clim_J #this shows that it is not the st.anom function that is broken... something is wrong with time step at beginning/end of month?"
   ]
  },
  {
   "cell_type": "code",
   "execution_count": null,
   "metadata": {},
   "outputs": [],
   "source": []
  }
 ],
 "metadata": {
  "kernelspec": {
   "display_name": "Python 3",
   "language": "python",
   "name": "python3"
  },
  "language_info": {
   "codemirror_mode": {
    "name": "ipython",
    "version": 3
   },
   "file_extension": ".py",
   "mimetype": "text/x-python",
   "name": "python",
   "nbconvert_exporter": "python",
   "pygments_lexer": "ipython3",
   "version": "3.6.7"
  }
 },
 "nbformat": 4,
 "nbformat_minor": 2
}
