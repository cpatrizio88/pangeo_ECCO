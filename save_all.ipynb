{
 "cells": [
  {
   "cell_type": "code",
   "execution_count": 1,
   "metadata": {},
   "outputs": [
    {
     "name": "stdout",
     "output_type": "stream",
     "text": [
      "LICENSE\n",
      "README.rst\n",
      "Untitled.ipynb\n",
      "Welcome.md\n",
      "binder/\n",
      "binder/jupyterlab-workspace.json\n",
      "binder/environment.yml\n",
      "binder/start\n",
      "binder/.DS_Store\n",
      "binder/postBuild\n",
      "binder/apt.txt\n",
      "catalog.yaml\n",
      "llcmapping.py\n",
      "notebook.tar.gz\n",
      "notebooks/\n",
      "notebooks/hello_world.ipynb\n",
      "test_ecco.ipynb\n",
      "xscale/\n",
      "xscale/ci/\n",
      "xscale/ci/requirements-py27-dev.yml\n",
      "xscale/ci/requirements-py36-dev.yml\n",
      "xscale/ci/requirements-py27-min.yml\n",
      "xscale/ci/requirements-py36-min.yml\n",
      "xscale/docs/\n",
      "xscale/docs/Makefile\n",
      "xscale/docs/fft.rst\n",
      "xscale/docs/environment.yml\n",
      "xscale/docs/conf.py\n",
      "xscale/docs/install.rst\n",
      "xscale/docs/api.rst\n",
      "xscale/docs/fitting.rst\n",
      "xscale/docs/index.rst\n",
      "xscale/docs/window.rst\n",
      "xscale/docs/make.bat\n",
      "xscale/.gitignore\n",
      "xscale/xscale/\n",
      "xscale/xscale/tests/\n",
      "xscale/xscale/tests/test_utils.py\n",
      "xscale/xscale/tests/__init__.py\n",
      "xscale/xscale/_version.py\n",
      "xscale/xscale/signal/\n",
      "xscale/xscale/signal/tests/\n",
      "xscale/xscale/signal/tests/test_generator.py\n",
      "xscale/xscale/signal/tests/__init__.py\n",
      "xscale/xscale/signal/tests/test_fitting.py\n",
      "xscale/xscale/signal/fitting.py\n",
      "xscale/xscale/signal/__init__.py\n",
      "xscale/xscale/signal/generator.py\n",
      "xscale/xscale/spectral/\n",
      "xscale/xscale/spectral/tests/\n",
      "xscale/xscale/spectral/tests/__init__.py\n",
      "xscale/xscale/spectral/tests/test_fft.py\n",
      "xscale/xscale/spectral/tools.py\n",
      "xscale/xscale/spectral/__init__.py\n",
      "xscale/xscale/spectral/fft.py\n",
      "xscale/xscale/_utils.py\n",
      "xscale/xscale/__init__.py\n",
      "xscale/xscale/filtering/\n",
      "xscale/xscale/filtering/tests/\n",
      "xscale/xscale/filtering/tests/__init__.py\n",
      "xscale/xscale/filtering/tests/test_linearfilters.py\n",
      "xscale/xscale/filtering/__init__.py\n",
      "xscale/xscale/filtering/linearfilters.py\n",
      "xscale/xscale/pca/\n",
      "xscale/xscale/pca/tests/\n",
      "xscale/xscale/pca/tests/__init__.py\n",
      "xscale/xscale/pca/ssa.py\n",
      "xscale/xscale/pca/__init__.py\n",
      "xscale/.travis.yml\n",
      "xscale/setup.cfg\n",
      "xscale/.idea/\n",
      "xscale/.idea/vcs.xml\n",
      "xscale/.git\n",
      "xscale/.gitattributes\n",
      "xscale/.coveragerc\n",
      "xscale/setup.py\n",
      "xscale/versioneer.py\n",
      "xscale/README.rst\n",
      "xscale/readthedocs.yml\n",
      "xscale/LICENCE\n",
      "xscale/MANIFEST.in\n"
     ]
    }
   ],
   "source": [
    "!tar chvfz notebook.tar.gz *"
   ]
  },
  {
   "cell_type": "code",
   "execution_count": null,
   "metadata": {},
   "outputs": [],
   "source": []
  }
 ],
 "metadata": {
  "kernelspec": {
   "display_name": "Python 3",
   "language": "python",
   "name": "python3"
  },
  "language_info": {
   "codemirror_mode": {
    "name": "ipython",
    "version": 3
   },
   "file_extension": ".py",
   "mimetype": "text/x-python",
   "name": "python",
   "nbconvert_exporter": "python",
   "pygments_lexer": "ipython3",
   "version": "3.6.7"
  }
 },
 "nbformat": 4,
 "nbformat_minor": 2
}
