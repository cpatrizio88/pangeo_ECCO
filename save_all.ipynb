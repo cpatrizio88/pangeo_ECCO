{
 "cells": [
  {
   "cell_type": "code",
   "execution_count": 1,
   "metadata": {},
   "outputs": [
    {
     "name": "stdout",
     "output_type": "stream",
     "text": [
      "ECCO_calc_means_vars.py\n",
      "LICENSE\n",
      "README.rst\n",
      "Welcome.md\n",
      "__pycache__/\n",
      "__pycache__/stats.cpython-36.pyc\n",
      "__pycache__/llcmapping.cpython-36.pyc\n",
      "catalog.yaml\n",
      "ecco_v4_tools/\n",
      "ecco_v4_tools/calc_stf.py\n",
      "ecco_v4_tools/test_llc_array_loading_and_conversion.py\n",
      "ecco_v4_tools/read_bin_gen.py\n",
      "ecco_v4_tools/calc_meridional_trsp.py\n",
      "ecco_v4_tools/__init__.py\n",
      "ecco_v4_tools/resample_to_latlon.py\n",
      "ecco_v4_tools/scalar_calc.py\n",
      "ecco_v4_tools/get_section_masks.py\n",
      "ecco_v4_tools/tile_exchange.py\n",
      "ecco_v4_tools/ecco_utils.py\n",
      "ecco_v4_tools/vector_calc.py\n",
      "ecco_v4_tools/calc_section_trsp.py\n",
      "ecco_v4_tools/__pycache__/\n",
      "ecco_v4_tools/__pycache__/tile_io.cpython-36.pyc\n",
      "ecco_v4_tools/__pycache__/get_section_masks.cpython-36.pyc\n",
      "ecco_v4_tools/__pycache__/tile_rotation.cpython-36.pyc\n",
      "ecco_v4_tools/__pycache__/test_llc_array_loading_and_conversion.cpython-36.pyc\n",
      "ecco_v4_tools/__pycache__/calc_section_trsp.cpython-36.pyc\n",
      "ecco_v4_tools/__pycache__/tile_plot_proj.cpython-36.pyc\n",
      "ecco_v4_tools/__pycache__/scalar_calc.cpython-36.pyc\n",
      "ecco_v4_tools/__pycache__/read_bin_gen.cpython-36.pyc\n",
      "ecco_v4_tools/__pycache__/read_bin_llc.cpython-36.pyc\n",
      "ecco_v4_tools/__pycache__/vector_calc.cpython-36.pyc\n",
      "ecco_v4_tools/__pycache__/tile_plot.cpython-36.pyc\n",
      "ecco_v4_tools/__pycache__/llc_array_conversion.cpython-36.pyc\n",
      "ecco_v4_tools/__pycache__/ecco_utils.cpython-36.pyc\n",
      "ecco_v4_tools/__pycache__/resample_to_latlon.cpython-36.pyc\n",
      "ecco_v4_tools/__pycache__/netcdf_product_generation.cpython-36.pyc\n",
      "ecco_v4_tools/__pycache__/calc_meridional_trsp.cpython-36.pyc\n",
      "ecco_v4_tools/__pycache__/tile_exchange.cpython-36.pyc\n",
      "ecco_v4_tools/__pycache__/get_basin.cpython-36.pyc\n",
      "ecco_v4_tools/__pycache__/__init__.cpython-36.pyc\n",
      "ecco_v4_tools/__pycache__/calc_stf.cpython-36.pyc\n",
      "ecco_v4_tools/tile_plot.py\n",
      "ecco_v4_tools/tile_plot_proj.py\n",
      "ecco_v4_tools/.ipynb_checkpoints/\n",
      "ecco_v4_tools/.ipynb_checkpoints/tile_plot_proj-checkpoint.py\n",
      "ecco_v4_tools/.ipynb_checkpoints/get_section_masks-checkpoint.py\n",
      "ecco_v4_tools/.ipynb_checkpoints/resample_to_latlon-checkpoint.py\n",
      "ecco_v4_tools/.ipynb_checkpoints/calc_meridional_trsp-checkpoint.py\n",
      "ecco_v4_tools/.ipynb_checkpoints/__init__-checkpoint.py\n",
      "ecco_v4_tools/get_basin.py\n",
      "ecco_v4_tools/tile_io.py\n",
      "ecco_v4_tools/llc_array_conversion.py\n",
      "ecco_v4_tools/tile_rotation.py\n",
      "ecco_v4_tools/read_bin_llc.py\n",
      "ecco_v4_tools/netcdf_product_generation.py\n",
      "llcmapping.py\n",
      "save_all.ipynb\n",
      "stats.py\n",
      "test_ecco.ipynb\n",
      "test_ecco_cov.ipynb\n",
      "test_ecco_heatbudget.ipynb\n",
      "test_ecco_sstvarbudget.ipynb\n"
     ]
    }
   ],
   "source": [
    "!tar chvfz notebook.tar.gz *"
   ]
  },
  {
   "cell_type": "code",
   "execution_count": null,
   "metadata": {},
   "outputs": [],
   "source": []
  }
 ],
 "metadata": {
  "kernelspec": {
   "display_name": "Python 3",
   "language": "python",
   "name": "python3"
  },
  "language_info": {
   "codemirror_mode": {
    "name": "ipython",
    "version": 3
   },
   "file_extension": ".py",
   "mimetype": "text/x-python",
   "name": "python",
   "nbconvert_exporter": "python",
   "pygments_lexer": "ipython3",
   "version": "3.6.7"
  }
 },
 "nbformat": 4,
 "nbformat_minor": 2
}
