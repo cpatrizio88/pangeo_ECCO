{
 "cells": [
  {
   "cell_type": "code",
   "execution_count": 1,
   "metadata": {},
   "outputs": [
    {
     "name": "stderr",
     "output_type": "stream",
     "text": [
      "/glade/u/home/patrizio/miniconda3/envs/pangeo/lib/python3.7/site-packages/tqdm/autonotebook/__init__.py:18: TqdmExperimentalWarning: Using `tqdm.autonotebook.tqdm` in notebook mode. Use `tqdm.tqdm` instead to force console mode (e.g. in jupyter console)\n",
      "  \" (e.g. in jupyter console)\", TqdmExperimentalWarning)\n"
     ]
    }
   ],
   "source": [
    "import xarray as xr\n",
    "import gcsfs\n",
    "import intake\n",
    "import numpy as np\n",
    "import matplotlib\n",
    "#import cmocean\n",
    "import stats\n",
    "import stats as st\n",
    "from matplotlib import pyplot as plt\n",
    "%matplotlib inline\n",
    "import ecco_v4_tools as ecco\n",
    "# Import plotting libraries\n",
    "import importlib\n",
    "import llcmapping\n",
    "importlib.reload(llcmapping)\n",
    "from llcmapping import LLCMapper\n",
    "importlib.reload(ecco)\n",
    "importlib.reload(ecco.tile_plot_proj)\n",
    "import glob"
   ]
  },
  {
   "cell_type": "code",
   "execution_count": 2,
   "metadata": {},
   "outputs": [],
   "source": [
    "matplotlib.rcParams.update({'font.size': 16})\n",
    "matplotlib.rcParams.update({'axes.titlesize': 16})\n",
    "matplotlib.rcParams.update({'figure.figsize': (10,8)})\n",
    "matplotlib.rcParams.update({'lines.linewidth': 2})\n",
    "matplotlib.rcParams.update({'legend.fontsize': 18})\n",
    "matplotlib.rcParams.update({'mathtext.fontset': 'cm'})\n",
    "matplotlib.rcParams.update({'ytick.major.size': 3})\n",
    "matplotlib.rcParams.update({'axes.labelsize': 16})\n",
    "matplotlib.rcParams.update({'ytick.labelsize': 16})\n",
    "matplotlib.rcParams.update({'xtick.labelsize': 16})"
   ]
  },
  {
   "cell_type": "code",
   "execution_count": 3,
   "metadata": {},
   "outputs": [],
   "source": [
    "fin = '/glade/work/patrizio/ECCO/' \n",
    "fout = '/glade/scratch/patrizio/figs/'"
   ]
  },
  {
   "cell_type": "code",
   "execution_count": 4,
   "metadata": {},
   "outputs": [
    {
     "data": {
      "text/plain": [
       "['/glade/work/patrizio/ECCO/fields/ecco_adv_ConvH.nc',\n",
       " '/glade/work/patrizio/ECCO/fields/ecco_forcH.nc',\n",
       " '/glade/work/patrizio/ECCO/fields/ecco_dif_ConvH.nc']"
      ]
     },
     "execution_count": 4,
     "metadata": {},
     "output_type": "execute_result"
    }
   ],
   "source": [
    "fcoords = glob.glob(fin + 'fields/*coords.nc')[0]\n",
    "fsnp = glob.glob(fin + 'fields/*snp.nc')\n",
    "fvars = set(glob.glob(fin + 'fields/*.nc')) - set(glob.glob(fin + 'fields/*coords.nc')) - set(glob.glob(fin + 'fields/*snp.nc'))\n",
    "fvars = list(fvars)\n",
    "fvars "
   ]
  },
  {
   "cell_type": "code",
   "execution_count": 5,
   "metadata": {},
   "outputs": [
    {
     "data": {
      "text/plain": [
       "<xarray.Dataset>\n",
       "Dimensions:   (face: 13, i: 90, i_g: 90, j: 90, j_g: 90, k: 50, k_l: 50, k_p1: 51, k_u: 50, time: 288, time_snp: 287)\n",
       "Coordinates:\n",
       "  * i_g       (i_g) int64 0 1 2 3 4 5 6 7 8 9 ... 80 81 82 83 84 85 86 87 88 89\n",
       "  * j         (j) int64 0 1 2 3 4 5 6 7 8 9 10 ... 80 81 82 83 84 85 86 87 88 89\n",
       "  * k_l       (k_l) int64 0 1 2 3 4 5 6 7 8 9 ... 40 41 42 43 44 45 46 47 48 49\n",
       "  * face      (face) int64 0 1 2 3 4 5 6 7 8 9 10 11 12\n",
       "  * k_p1      (k_p1) int64 0 1 2 3 4 5 6 7 8 9 ... 41 42 43 44 45 46 47 48 49 50\n",
       "  * k_u       (k_u) int64 0 1 2 3 4 5 6 7 8 9 ... 40 41 42 43 44 45 46 47 48 49\n",
       "  * i         (i) int64 0 1 2 3 4 5 6 7 8 9 10 ... 80 81 82 83 84 85 86 87 88 89\n",
       "  * k         (k) int64 0 1 2 3 4 5 6 7 8 9 10 ... 40 41 42 43 44 45 46 47 48 49\n",
       "  * time_snp  (time_snp) datetime64[ns] 1992-02-01 1992-03-01 ... 2015-12-01\n",
       "  * time      (time) datetime64[ns] 1992-01-15 1992-02-13 ... 2015-12-14\n",
       "  * j_g       (j_g) int64 0 1 2 3 4 5 6 7 8 9 ... 80 81 82 83 84 85 86 87 88 89\n",
       "Data variables:\n",
       "    hFacS     (k, face, j_g, i) float32 ...\n",
       "    Zu        (k_u) float32 ...\n",
       "    YG        (face, j_g, i_g) float32 ...\n",
       "    rAz       (face, j_g, i_g) float32 ...\n",
       "    Depth     (face, j, i) float32 ...\n",
       "    XG        (face, j_g, i_g) float32 ...\n",
       "    dyG       (face, j, i_g) float32 ...\n",
       "    hFacC     (k, face, j, i) float32 ...\n",
       "    YC        (face, j, i) float32 ...\n",
       "    PHrefF    (k_p1) float32 ...\n",
       "    dxG       (face, j_g, i) float32 ...\n",
       "    dyC       (face, j_g, i) float32 ...\n",
       "    rA        (face, j, i) float32 ...\n",
       "    dxC       (face, j, i_g) float32 ...\n",
       "    hFacW     (k, face, j, i_g) float32 ...\n",
       "    PHrefC    (k) float32 ...\n",
       "    drC       (k_p1) float32 ...\n",
       "    rAs       (face, j_g, i) float32 ...\n",
       "    drF       (k) float32 ...\n",
       "    iter      (time) int64 ...\n",
       "    Zl        (k_l) float32 ...\n",
       "    Zp1       (k_p1) float32 ...\n",
       "    XC        (face, j, i) float32 ...\n",
       "    Z         (k) float32 ...\n",
       "    rAw       (face, j, i_g) float32 ...\n",
       "    iter_snp  (time_snp) int64 ..."
      ]
     },
     "execution_count": 5,
     "metadata": {},
     "output_type": "execute_result"
    }
   ],
   "source": [
    "coords = xr.open_dataset(fcoords)\n",
    "coords"
   ]
  },
  {
   "cell_type": "code",
   "execution_count": 6,
   "metadata": {},
   "outputs": [],
   "source": [
    "ntchunk=288\n",
    "\n",
    "ds_snp = xr.open_mfdataset(fsnp,concat_dim=None)\n",
    "ds_snp = ds_snp.chunk({'time':ntchunk-1})"
   ]
  },
  {
   "cell_type": "code",
   "execution_count": 7,
   "metadata": {},
   "outputs": [
    {
     "data": {
      "text/plain": [
       "<xarray.Dataset>\n",
       "Dimensions:    (face: 13, i: 90, j: 90, k: 50, time: 288)\n",
       "Coordinates:\n",
       "  * k          (k) int64 0 1 2 3 4 5 6 7 8 9 ... 40 41 42 43 44 45 46 47 48 49\n",
       "  * j          (j) int64 0 1 2 3 4 5 6 7 8 9 ... 80 81 82 83 84 85 86 87 88 89\n",
       "  * face       (face) int64 0 1 2 3 4 5 6 7 8 9 10 11 12\n",
       "  * i          (i) int64 0 1 2 3 4 5 6 7 8 9 ... 80 81 82 83 84 85 86 87 88 89\n",
       "  * time       (time) datetime64[ns] 1992-01-15 1992-02-13 ... 2015-12-14\n",
       "Data variables:\n",
       "    adv_ConvH  (time, face, k, j, i) float64 dask.array<shape=(288, 13, 50, 90, 90), chunksize=(288, 13, 50, 90, 90)>\n",
       "    forcH      (time, face, k, j, i) float64 dask.array<shape=(288, 13, 50, 90, 90), chunksize=(288, 13, 50, 90, 90)>\n",
       "    dif_ConvH  (time, face, k, j, i) float64 dask.array<shape=(288, 13, 50, 90, 90), chunksize=(288, 13, 50, 90, 90)>"
      ]
     },
     "execution_count": 7,
     "metadata": {},
     "output_type": "execute_result"
    }
   ],
   "source": [
    "ds = xr.open_mfdataset(fvars,concat_dim=None)\n",
    "ds"
   ]
  },
  {
   "cell_type": "code",
   "execution_count": 8,
   "metadata": {
    "collapsed": true,
    "editable": true
   },
   "outputs": [],
   "source": [
    "ds_MXLDEPTH = xr.open_zarr(fin + 'ecco-data/MXLDEPTH', chunks={'time':ntchunk})\n",
    "mxldepth = ds_MXLDEPTH.MXLDEPTH"
   ]
  },
  {
   "cell_type": "code",
   "execution_count": 9,
   "metadata": {},
   "outputs": [
    {
     "data": {
      "text/plain": [
       "<xarray.DataArray 'MXLDEPTH' (face: 13, time: 288, j: 90, i: 90)>\n",
       "dask.array<shape=(13, 288, 90, 90), dtype=float64, chunksize=(1, 288, 90, 90)>\n",
       "Coordinates:\n",
       "  * i        (i) float64 1.0 2.0 3.0 4.0 5.0 6.0 ... 86.0 87.0 88.0 89.0 90.0\n",
       "  * j        (j) float64 1.0 2.0 3.0 4.0 5.0 6.0 ... 86.0 87.0 88.0 89.0 90.0\n",
       "    lat      (face, j, i) float64 dask.array<shape=(13, 90, 90), chunksize=(1, 90, 90)>\n",
       "    lon      (face, j, i) float64 dask.array<shape=(13, 90, 90), chunksize=(1, 90, 90)>\n",
       "    tim      (time) datetime64[ns] dask.array<shape=(288,), chunksize=(288,)>\n",
       "  * time     (time) float64 1.0 2.0 3.0 4.0 5.0 ... 285.0 286.0 287.0 288.0\n",
       "Dimensions without coordinates: face\n",
       "Attributes:\n",
       "    long_name:  Mixed-Layer Depth (>0)\n",
       "    units:      m"
      ]
     },
     "execution_count": 9,
     "metadata": {},
     "output_type": "execute_result"
    }
   ],
   "source": [
    "mxldepth"
   ]
  },
  {
   "cell_type": "markdown",
   "metadata": {
    "editable": true
   },
   "source": [
    "For some reason the mixed layer depth coordinate indices are displaced by +1 in relation to the ECCO data stored on Pangeo. The coordinates need to be matched for future calculations. "
   ]
  },
  {
   "cell_type": "code",
   "execution_count": 10,
   "metadata": {
    "collapsed": false,
    "editable": true
   },
   "outputs": [],
   "source": [
    "mxldepth.coords['i'] = coords['i']\n",
    "mxldepth.coords['j'] = coords['j']"
   ]
  },
  {
   "cell_type": "markdown",
   "metadata": {
    "editable": true
   },
   "source": [
    "Calculate climatological mean mixed layer depth. We will be using this later to mask grid points outside of the mixed layer. "
   ]
  },
  {
   "cell_type": "code",
   "execution_count": 11,
   "metadata": {
    "collapsed": true,
    "editable": true
   },
   "outputs": [],
   "source": [
    "mxldepth_clim=mxldepth.mean(dim='time').load()\n",
    "#mxldepth_clim=mxldepth.mean(dim='time').persist()"
   ]
  },
  {
   "cell_type": "markdown",
   "metadata": {
    "editable": true
   },
   "source": [
    "Make a mask of points outside the ocean mixed layer:"
   ]
  },
  {
   "cell_type": "code",
   "execution_count": 12,
   "metadata": {
    "collapsed": true,
    "editable": true
   },
   "outputs": [],
   "source": [
    "mxlpoints = np.abs(coords['Z']) <= mxldepth_clim"
   ]
  },
  {
   "cell_type": "code",
   "execution_count": null,
   "metadata": {},
   "outputs": [],
   "source": []
  },
  {
   "cell_type": "code",
   "execution_count": 13,
   "metadata": {
    "collapsed": true,
    "editable": true
   },
   "outputs": [],
   "source": [
    "# Flag for low-pass filtering\n",
    "lowpass=True\n",
    "\n",
    "# Filter requirements\n",
    "order = 5\n",
    "fs = 1     # sample rate, (cycles per month)\n",
    "Tn = 12*3.\n",
    "cutoff = 1/Tn  # desired cutoff frequency of the filter (cycles per month)\n",
    "\n",
    "# Face numbers to analyze\n",
    "# 0: Southern Ocean (Atlantic)\n",
    "# 1: South Atlantic Ocean / Africa \n",
    "# 2: East North Atlantic / Europe\n",
    "# 3: Southern Ocean (Indian)\n",
    "# 4: Indian Ocean\n",
    "# 5: Asia\n",
    "# 6: Arctic\n",
    "# 7: North Pacific (central)\n",
    "# 8: West South Pacific\n",
    "# 9: Southern Ocean (West Pacific)\n",
    "# 10: North America / West North Atlantic\n",
    "# 11: East South Pacific / South America\n",
    "# 12: Southern Ocean(East Pacific)\n",
    "#facen = [5,7]\n",
    "\n",
    "#Note: longitude bounds can either be 0 < bounds < 360, or -180 < bounds < 180. \n",
    "#The only requirement is that the left longitude bound is less than the right bound \n",
    "#(along date line must use 0 < bounds < 360).\n",
    "#(along prime meridian must use -180 < bounds < 180)\n",
    "\n",
    "# Complete global \n",
    "#facen=[0,1,2,3,4,5,6,7,8,9,10,11,12]\n",
    "#bnds = [0,359.9,-90,90]\n",
    "\n",
    "#facen=[]\n",
    "#bnds = [0,359.9,-90,90]\n",
    "\n",
    "# Global (excluding polar regions)\n",
    "#facen=[1,2,4,5,7,8,10,11]\n",
    "#bnds = [0,359.9,-58,70]\n",
    "\n",
    "#Southern Ocean (Atlantic)\n",
    "#facen=[0]\n",
    "#bnds = [-20,20,-58,-90]\n",
    "\n",
    "#1: South Atlantic Ocean / Africa\n",
    "#facen=[1]\n",
    "#bnds = [-38,30,-58,10]\n",
    "\n",
    "#2: East North Atlantic \n",
    "#facen=[2]\n",
    "#bnds = [-38,30,10,70]\n",
    "\n",
    "#3: Southern Ocean (Indian)\n",
    "#facen=[3]\n",
    "#bnds = [60,143,-58,-90]\n",
    "\n",
    "#4: Indian Ocean\n",
    "#facen=[4]\n",
    "#bnds = [60,143,-58,10]\n",
    "\n",
    "#7: North Pacific (central)\n",
    "#facen=[7]\n",
    "#bnds = [145,230,10,70]\n",
    "\n",
    "#8: West South Pacific\n",
    "#facen=[8]\n",
    "#bnds = [145,230,-58,10]\n",
    "\n",
    "#11: East South Pacific\n",
    "#facen=[11]\n",
    "#bnds = [-128,-38,-58,10]\n",
    "\n",
    "#2, 10: North Atlantic\n",
    "facen=[2,10]\n",
    "bnds = [-80,0,10,70]\n",
    "\n",
    "#5,7,10: North Pacific\n",
    "#facen=[5,7,10]\n",
    "#bnds = [100,270,10,70]\n",
    "\n",
    "#4,5,7,8,10,11: Pacific\n",
    "#facen=[4,5,7,8,10,11]\n",
    "#bnds = [100,300,-70,70]\n",
    "\n",
    "#5,7,8,10,11: Tropical Pacific\n",
    "#facen=[5,7,8,10,11]\n",
    "#bnds = [145,290,-15,15]\n",
    "\n",
    "#5,7: KOE\n",
    "#facen=[5,7]\n",
    "#bnds = [120,180,15,60]"
   ]
  },
  {
   "cell_type": "code",
   "execution_count": 14,
   "metadata": {
    "collapsed": true,
    "editable": true
   },
   "outputs": [],
   "source": [
    "rho0 = 1029 #sea-water density (kg/m^3)\n",
    "c_p = 3994 #sea-water heat capacity (J/kg/K)"
   ]
  },
  {
   "cell_type": "code",
   "execution_count": 15,
   "metadata": {},
   "outputs": [],
   "source": [
    "coords=coords.isel(face=facen)"
   ]
  },
  {
   "cell_type": "code",
   "execution_count": 16,
   "metadata": {
    "collapsed": true,
    "editable": true
   },
   "outputs": [],
   "source": [
    "# Vertical grid spacing\n",
    "drF = coords.drF\n",
    "hFacC = coords.hFacC\n",
    "#rA = coords.rA.isel(face=facen).load()\n",
    "#vol = drF*hFacC*rA.load()"
   ]
  },
  {
   "cell_type": "code",
   "execution_count": 17,
   "metadata": {},
   "outputs": [],
   "source": [
    "c_o = rho0*c_p*drF*hFacC"
   ]
  },
  {
   "cell_type": "code",
   "execution_count": 18,
   "metadata": {},
   "outputs": [],
   "source": [
    "T = ds_snp.T.isel(face=facen)\n",
    "adv_ConvH = ds.adv_ConvH.isel(face=facen)\n",
    "dif_ConvH = ds.dif_ConvH.isel(face=facen)\n",
    "forcH = ds.forcH.isel(face=facen)"
   ]
  },
  {
   "cell_type": "code",
   "execution_count": 19,
   "metadata": {},
   "outputs": [],
   "source": [
    "dt = coords.time_snp[1:].load()\n",
    "dt = dt.rename({'time_snp': 'time'})\n",
    "# delta t in seconds. Note: divide by 10**9 to convert nanoseconds to seconds\n",
    "dt.values = [float(t)/10**9 for t in np.diff(coords.time_snp)]\n",
    "\n",
    "# time axis of dt should be the same as of the monthly averages\n",
    "dt.time.values = coords.time[1:-1].values"
   ]
  },
  {
   "cell_type": "code",
   "execution_count": 20,
   "metadata": {},
   "outputs": [],
   "source": [
    "lons = coords.XC\n",
    "lats = coords.YC"
   ]
  },
  {
   "cell_type": "code",
   "execution_count": 21,
   "metadata": {},
   "outputs": [],
   "source": [
    "T_anom, T_clim = st.anom(T) \n",
    "C_adv_anom, C_adv_clim = st.anom(adv_ConvH)\n",
    "C_dif_anom, C_dif_clim = st.anom(dif_ConvH)\n",
    "C_forc_anom, C_forc_clim = st.anom(forcH)\n",
    "totalH_anom = C_adv_anom + C_dif_anom + C_forc_anom"
   ]
  },
  {
   "cell_type": "code",
   "execution_count": 22,
   "metadata": {},
   "outputs": [],
   "source": [
    "T_anom = T_anom.chunk({'time':ntchunk-1})\n",
    "C_adv_anom = C_adv_anom.chunk({'time':ntchunk})\n",
    "C_dif_anom = C_dif_anom.chunk({'time':ntchunk})\n",
    "C_forc_anom = C_forc_anom.chunk({'time':ntchunk})"
   ]
  },
  {
   "cell_type": "code",
   "execution_count": null,
   "metadata": {},
   "outputs": [],
   "source": [
    "if lowpass:\n",
    "    \n",
    "    T_anom = T_anom.chunk({'time':288, 'j':10, 'i':10})\n",
    "    \n",
    "    C_adv_anom = C_adv_anom.chunk({'time':288, 'j':10, 'i':10})\n",
    "    C_dif_anom = C_dif_anom.chunk({'time':288, 'j':10, 'i':10})\n",
    "    C_forc_anom = C_forc_anom.chunk({'time':288, 'j':10, 'i':10})\n",
    "    \n",
    "    T_anom  = stats.butter_lowpass_filter_xr(T_anom, cutoff, fs, order)\n",
    "    \n",
    "    C_adv_anom  = stats.butter_lowpass_filter_xr(C_adv_anom, cutoff, fs, order)\n",
    "    C_dif_anom = stats.butter_lowpass_filter_xr(C_dif_anom, cutoff, fs, order)\n",
    "    C_forc_anom  = stats.butter_lowpass_filter_xr(C_forc_anom, cutoff, fs, order)\n",
    "    \n",
    "    totalH_anom = C_adv_anom + C_dif_anom + C_forc_anom"
   ]
  },
  {
   "cell_type": "code",
   "execution_count": null,
   "metadata": {},
   "outputs": [],
   "source": [
    "%time T_anom.load()\n",
    "%time C_adv_anom.load()\n",
    "%time C_dif_anom.load()\n",
    "%time C_forc_anom.load()"
   ]
  },
  {
   "cell_type": "code",
   "execution_count": null,
   "metadata": {},
   "outputs": [],
   "source": [
    "tendH_perMonth = (T_anom.shift(time=-1)-T_anom)[:-1]"
   ]
  },
  {
   "cell_type": "code",
   "execution_count": null,
   "metadata": {},
   "outputs": [],
   "source": [
    "# Make sure time axis is the same as for the monthly variables\n",
    "tendH_perMonth.time.values = coords.time[1:-1].values\n",
    "\n",
    "# Convert tendency from 1/month to 1/s\n",
    "tendH_perSec = tendH_perMonth/dt\n",
    "tendH_perSec = tendH_perSec.transpose('face','time', 'k', 'j', 'i')"
   ]
  },
  {
   "cell_type": "code",
   "execution_count": null,
   "metadata": {},
   "outputs": [],
   "source": [
    "# Define tendH array with correct dimensions\n",
    "tendH_anom = xr.DataArray(np.nan*np.zeros([len(facen),np.shape(tendH_perSec)[1]+2,50,90,90]),\n",
    "                     coords={'face': facen, 'time': range(np.shape(tendH_perSec)[1]+2),'k': np.array(range(0,50)),\n",
    "                             'j': np.array(range(0,90)),'i': np.array(range(0,90))},dims=['face', 'time','k', 'j','i'])\n",
    "\n",
    "tendH_anom.time.values = coords.time.values"
   ]
  },
  {
   "cell_type": "code",
   "execution_count": null,
   "metadata": {},
   "outputs": [],
   "source": [
    "tendH_anom"
   ]
  },
  {
   "cell_type": "code",
   "execution_count": null,
   "metadata": {},
   "outputs": [],
   "source": [
    "tendH_anom.nbytes/1e9"
   ]
  },
  {
   "cell_type": "code",
   "execution_count": null,
   "metadata": {},
   "outputs": [],
   "source": [
    "# Add coordinates#\n",
    "tendH_anom['XC'] = lons\n",
    "tendH_anom['YC'] = lats\n",
    "tendH_anom['Z'] = coords.Z\n",
    "\n",
    "# Total tendency (degC/s)\n",
    "tendH_anom.values[:,1:-1,:] = tendH_perSec.values\n",
    "%time tendH_anom.load()\n",
    "#%time tendH.persist()"
   ]
  },
  {
   "cell_type": "code",
   "execution_count": null,
   "metadata": {},
   "outputs": [],
   "source": [
    "# Convert from degC/s to W/m^2\n",
    "tendH_anom = c_o*tendH_anom\n",
    "tendH_anom = tendH_anom.transpose('time','face', 'k', 'j', 'i')"
   ]
  },
  {
   "cell_type": "code",
   "execution_count": null,
   "metadata": {},
   "outputs": [],
   "source": [
    "face=0\n",
    "k = 0\n",
    "j = 15\n",
    "i = 15\n",
    "\n",
    "plt.figure(figsize=(14,10))\n",
    "plt.subplot(2, 1, 1)\n",
    "plt.plot(tendH_anom.time, tendH_anom.isel(face=face,k=k,j=j,i=i), lw=4, color='K', marker='.',label='total tendency')\n",
    "plt.plot(C_forc_anom.time, C_forc_anom.isel(face=face,k=k,j=j,i=i), lw=2, color='C0', marker='.',label='forcing')\n",
    "plt.plot(C_adv_anom.time, C_adv_anom.isel(face=face,k=k,j=j,i=i), lw=2, color='C1', marker='.',label='advection')\n",
    "plt.axhline(0,color='k',lw=1)\n",
    "plt.plot(C_dif_anom.time, C_dif_anom.isel(face=face,k=k,j=j,i=i), lw=2, color='C2',label='diffusion')\n",
    "plt.setp(plt.gca(), 'xticklabels',[])\n",
    "plt.legend(loc='best',frameon=False,fontsize=14)\n",
    "\n",
    "plt.subplot(2, 1, 2)\n",
    "plt.plot(totalH_anom.time, totalH_anom.isel(face=face,k=k,j=j,i=i), lw=4, color='red', marker='.',label='RHS')\n",
    "plt.plot(tendH_anom.time, tendH_anom.isel(face=face,k=k,j=j,i=i), lw=2, color='blue', marker='.',label='LHS')\n",
    "plt.plot(tendH_anom.time, (totalH_anom-tendH_anom).isel(face=face,k=k,j=j,i=i), lw=2, color='k', marker='.',label='RHS - LHS')\n",
    "plt.legend(loc='best',frameon=False,fontsize=14)\n",
    "plt.savefig(fout + 'sstbudget_anom_ts.png')"
   ]
  },
  {
   "cell_type": "code",
   "execution_count": null,
   "metadata": {
    "collapsed": true,
    "editable": true
   },
   "outputs": [],
   "source": [
    "T_var = T_anom.var(dim='time')\n",
    "%time T_var.load()\n",
    "#%time T_var.persist()"
   ]
  },
  {
   "cell_type": "code",
   "execution_count": null,
   "metadata": {},
   "outputs": [],
   "source": [
    "tendH_anom = tendH_anom/c_o"
   ]
  },
  {
   "cell_type": "code",
   "execution_count": null,
   "metadata": {
    "collapsed": true,
    "editable": true
   },
   "outputs": [],
   "source": [
    "#tendH_anom = tendH_anom.transpose('time','face', 'k', 'j', 'i')\n",
    "cov_adv = st.cov(tendH_anom, C_adv_anom)\n",
    "cov_dif = st.cov(tendH_anom, C_dif_anom)\n",
    "cov_forc = st.cov(tendH_anom, C_forc_anom)"
   ]
  },
  {
   "cell_type": "code",
   "execution_count": null,
   "metadata": {},
   "outputs": [],
   "source": [
    "cov_adv.nbytes/1e9"
   ]
  },
  {
   "cell_type": "code",
   "execution_count": null,
   "metadata": {},
   "outputs": [],
   "source": [
    "%time cov_adv.load()\n",
    "%time cov_dif.load()\n",
    "%time cov_forc.load()"
   ]
  },
  {
   "cell_type": "code",
   "execution_count": null,
   "metadata": {
    "collapsed": true,
    "editable": true
   },
   "outputs": [],
   "source": [
    "deltat = dt.mean()\n",
    "deltat.compute()"
   ]
  },
  {
   "cell_type": "code",
   "execution_count": null,
   "metadata": {
    "collapsed": true,
    "editable": true
   },
   "outputs": [],
   "source": [
    "r_1 = st.cor(T_anom, T_anom,lagx=1).compute()\n",
    "r_1"
   ]
  },
  {
   "cell_type": "code",
   "execution_count": null,
   "metadata": {
    "collapsed": true,
    "editable": true
   },
   "outputs": [],
   "source": [
    "fac = (deltat**2/(2*c_o*(1-r_1)))\n",
    "fac.load()"
   ]
  },
  {
   "cell_type": "code",
   "execution_count": null,
   "metadata": {
    "collapsed": true,
    "editable": true
   },
   "outputs": [],
   "source": [
    "T_var_sum = fac*(cov_adv + cov_dif + cov_forc)"
   ]
  },
  {
   "cell_type": "code",
   "execution_count": null,
   "metadata": {
    "collapsed": true,
    "editable": true
   },
   "outputs": [],
   "source": [
    "%time T_var_sum.load()\n",
    "#%time T_var_sum.persist()"
   ]
  },
  {
   "cell_type": "code",
   "execution_count": null,
   "metadata": {},
   "outputs": [],
   "source": [
    "mapper = LLCMapper(coords)"
   ]
  },
  {
   "cell_type": "code",
   "execution_count": null,
   "metadata": {
    "collapsed": true,
    "editable": true
   },
   "outputs": [],
   "source": [
    "k=0\n",
    "mapper(T_var.isel(k=k), bnds=bnds, cmap='cubehelix_r', vmin=0,vmax=1.0)\n",
    "mapper(T_var_sum.isel(k=k), bnds=bnds, cmap='cubehelix_r', vmin=0,vmax=1.0)"
   ]
  },
  {
   "cell_type": "markdown",
   "metadata": {
    "editable": true
   },
   "source": [
    "The temperature variance budget is clearly balanced! Let's take a look at the contribution due to each term."
   ]
  },
  {
   "cell_type": "code",
   "execution_count": null,
   "metadata": {
    "collapsed": true,
    "editable": true
   },
   "outputs": [],
   "source": [
    "T_var_adv = fac*cov_adv\n",
    "T_var_dif = fac*cov_dif\n",
    "T_var_forc = fac*cov_forc"
   ]
  },
  {
   "cell_type": "code",
   "execution_count": null,
   "metadata": {},
   "outputs": [],
   "source": [
    "vmin=-1.0\n",
    "vmax=1.0\n",
    "sstmax=1.6\n",
    "if lowpass:\n",
    "   sstmax=0.5\n",
    "   vmin=-0.5\n",
    "   vmax=0.5"
   ]
  },
  {
   "cell_type": "markdown",
   "metadata": {
    "editable": true
   },
   "source": [
    "### Contributions to temperature variance from advection, diffusion and surface forcing"
   ]
  },
  {
   "cell_type": "code",
   "execution_count": null,
   "metadata": {
    "collapsed": true,
    "editable": true
   },
   "outputs": [],
   "source": [
    "k=0\n",
    "mapper(T_var_sum.isel(k=k), bnds=bnds, cmap='cubehelix_r', vmin=0,vmax=sstmax)\n",
    "plt.title(r'temperature variance (K$^2$)')\n",
    "plt.savefig(fout + 'Tvar_sum.png')\n",
    "mapper(T_var_adv.isel(k=k), bnds=bnds, cmap='RdBu_r', vmin=vmin,vmax=vmax)\n",
    "plt.title(r'advective contribution (K$^2$)')\n",
    "plt.savefig(fout + 'Tvar_adv.png')\n",
    "mapper(T_var_dif.isel(k=k), bnds=bnds, cmap='RdBu_r', vmin=vmin,vmax=vmax)\n",
    "plt.title(r'diffusive contribution (K$^2$)')\n",
    "plt.savefig(fout + 'Tvar_dif.png')\n",
    "mapper(T_var_forc.isel(k=k), bnds=bnds, cmap='RdBu_r', vmin=vmin,vmax=vmax)\n",
    "plt.title(r'surface forcing contribution (K$^2$)')\n",
    "plt.savefig(fout + 'Tvar_forc.png')"
   ]
  },
  {
   "cell_type": "markdown",
   "metadata": {
    "editable": true
   },
   "source": [
    "### Contributions to ocean mixed layer temperature variance from advection, diffusion and surface forcing"
   ]
  },
  {
   "cell_type": "code",
   "execution_count": null,
   "metadata": {
    "collapsed": true,
    "editable": true
   },
   "outputs": [],
   "source": [
    "mxlpoints = mxlpoints.isel(face=facen)\n",
    "delz = drF*hFacC\n",
    "delz=delz.where(mxlpoints)\n",
    "delz_sum = delz.sum(dim='k')"
   ]
  },
  {
   "cell_type": "code",
   "execution_count": null,
   "metadata": {
    "collapsed": true,
    "editable": true
   },
   "outputs": [],
   "source": [
    "mxlpoints"
   ]
  },
  {
   "cell_type": "code",
   "execution_count": null,
   "metadata": {
    "collapsed": true,
    "editable": true
   },
   "outputs": [],
   "source": [
    "weights = delz/delz_sum"
   ]
  },
  {
   "cell_type": "code",
   "execution_count": null,
   "metadata": {
    "collapsed": true,
    "editable": true
   },
   "outputs": [],
   "source": [
    "T_var_mxl = (weights*T_var).where(mxlpoints).sum(dim='k')"
   ]
  },
  {
   "cell_type": "code",
   "execution_count": null,
   "metadata": {
    "collapsed": true,
    "editable": true
   },
   "outputs": [],
   "source": [
    "T_var_adv_mxl = (weights*T_var_adv).where(mxlpoints).sum(dim='k')\n",
    "T_var_dif_mxl = (weights*T_var_dif).where(mxlpoints).sum(dim='k')\n",
    "T_var_forc_mxl = (weights*T_var_forc).where(mxlpoints).sum(dim='k')"
   ]
  },
  {
   "cell_type": "code",
   "execution_count": null,
   "metadata": {
    "collapsed": true,
    "editable": true
   },
   "outputs": [],
   "source": [
    "T_var_sum_mxl = T_var_adv_mxl + T_var_dif_mxl + T_var_forc_mxl"
   ]
  },
  {
   "cell_type": "code",
   "execution_count": null,
   "metadata": {
    "collapsed": true,
    "editable": true
   },
   "outputs": [],
   "source": [
    "#f, axes = plt.subplots(2,2,figsize=(16,12))\n",
    "#f.tight_layout()\n",
    "mapper(T_var_sum_mxl, bnds=bnds, cmap='cubehelix_r', vmin=0,vmax=sstmax)\n",
    "plt.title(r'temperature variance (K$^2$)')\n",
    "plt.savefig(fout + 'Tmxlvar_sum.png')\n",
    "\n",
    "mapper(T_var_adv_mxl, bnds=bnds, cmap='RdBu_r', vmin=vmin,vmax=vmax)\n",
    "plt.title(r'advective contribution (K$^2$)')\n",
    "plt.savefig(fout + 'Tmxlvar_adv.png')\n",
    "\n",
    "mapper(T_var_dif_mxl, bnds=bnds, cmap='RdBu_r', vmin=vmin,vmax=vmax)\n",
    "plt.title(r'diffusive contribution (K$^2$)')\n",
    "plt.savefig(fout + 'Tmxlvar_dif.png')\n",
    "\n",
    "mapper(T_var_forc_mxl, bnds=bnds, cmap='RdBu_r', vmin=vmin,vmax=vmax)\n",
    "plt.title(r'surface forcing contribution (K$^2$)')\n",
    "plt.savefig(fout + 'Tmxlvar_forc.png')"
   ]
  },
  {
   "cell_type": "code",
   "execution_count": null,
   "metadata": {
    "collapsed": true,
    "editable": true
   },
   "outputs": [],
   "source": [
    "#mapper(T_var_sum_mxl, bnds=bnds, cmap='cubehelix_r', vmin=0,vmax=1.0)\n",
    "#plt.title(r'temperature variance (K$^2$)')\n",
    "#plt.savefig(fout + 'Tmxlvar_sum.png')\n",
    "mapper(T_var_adv_mxl + T_var_dif_mxl, bnds=bnds, cmap='RdBu_r', vmin=vmin,vmax=vmax)\n",
    "plt.title(r'ocean dynamics (advective + diffusive) contribution (K$^2$)')\n",
    "plt.savefig(fout + 'Tmxlvar_ocndyn.png')\n",
    "#mapper(T_var_forc_mxl, bnds=bnds, cmap='RdBu_r', vmin=-1.0,vmax=1.0)\n",
    "#plt.title(r'surface forcing contribution (K$^2$)')\n",
    "#plt.savefig(fout + 'Tmxlvar_forc.png')"
   ]
  },
  {
   "cell_type": "code",
   "execution_count": null,
   "metadata": {},
   "outputs": [],
   "source": []
  }
 ],
 "metadata": {
  "kernelspec": {
   "display_name": "Python (pangeo)",
   "language": "python",
   "name": "pangeo"
  },
  "language_info": {
   "codemirror_mode": {
    "name": "ipython",
    "version": 3
   },
   "file_extension": ".py",
   "mimetype": "text/x-python",
   "name": "python",
   "nbconvert_exporter": "python",
   "pygments_lexer": "ipython3",
   "version": "3.7.3"
  }
 },
 "nbformat": 4,
 "nbformat_minor": 2
}
