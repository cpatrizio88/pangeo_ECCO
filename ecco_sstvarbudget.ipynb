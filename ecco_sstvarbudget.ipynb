{
 "cells": [
  {
   "cell_type": "code",
   "execution_count": 56,
   "metadata": {
    "collapsed": false,
    "deletable": true,
    "editable": true
   },
   "outputs": [
    {
     "data": {
      "text/plain": [
       "<module 'ecco_v4_tools.tile_plot_proj' from '/glade/u/home/patrizio/notebooks/pangeo_ECCO/ecco_v4_tools/tile_plot_proj.py'>"
      ]
     },
     "execution_count": 56,
     "metadata": {},
     "output_type": "execute_result"
    }
   ],
   "source": [
    "import xarray as xr\n",
    "import gcsfs\n",
    "import intake\n",
    "import numpy as np\n",
    "import matplotlib\n",
    "#import cmocean\n",
    "import stats\n",
    "import stats as st\n",
    "from matplotlib import pyplot as plt\n",
    "%matplotlib inline\n",
    "import ecco_v4_tools as ecco\n",
    "# Import plotting libraries\n",
    "import importlib\n",
    "import llcmapping\n",
    "importlib.reload(llcmapping)\n",
    "from llcmapping import LLCMapper\n",
    "importlib.reload(ecco)\n",
    "importlib.reload(ecco.tile_plot_proj)"
   ]
  },
  {
   "cell_type": "code",
   "execution_count": 57,
   "metadata": {},
   "outputs": [],
   "source": [
    "# Hide garbage clean up warnings\n",
    "import logging\n",
    "logger = logging.getLogger(\"distributed.utils_perf\")\n",
    "logger.setLevel(logging.ERROR)"
   ]
  },
  {
   "cell_type": "code",
   "execution_count": 58,
   "metadata": {},
   "outputs": [],
   "source": [
    "#from dask_jobqueue import PBSCluster\n",
    "#cluster = PBSCluster()\n",
    "\n",
    "#from dask.distributed import Client\n",
    "#client = Client(cluster)"
   ]
  },
  {
   "cell_type": "code",
   "execution_count": 59,
   "metadata": {},
   "outputs": [],
   "source": [
    "#print(client)"
   ]
  },
  {
   "cell_type": "code",
   "execution_count": 60,
   "metadata": {},
   "outputs": [],
   "source": [
    "#client.run(lambda dask_worker: dask_worker.memory_spill_fraction)"
   ]
  },
  {
   "cell_type": "code",
   "execution_count": 61,
   "metadata": {},
   "outputs": [],
   "source": [
    "#cluster.scale(20)"
   ]
  },
  {
   "cell_type": "code",
   "execution_count": 62,
   "metadata": {},
   "outputs": [],
   "source": [
    "#cluster.adapt(minimum=18, maximum=18*2)\n",
    "#cluster.adapt(minimum_memory=’60 GB’, maximum_memory= '200 GB')"
   ]
  },
  {
   "cell_type": "code",
   "execution_count": 63,
   "metadata": {},
   "outputs": [],
   "source": [
    "#cluster"
   ]
  },
  {
   "cell_type": "code",
   "execution_count": 64,
   "metadata": {},
   "outputs": [],
   "source": [
    "#client"
   ]
  },
  {
   "cell_type": "markdown",
   "metadata": {
    "deletable": true,
    "editable": true
   },
   "source": [
    "Set up plotting parameters."
   ]
  },
  {
   "cell_type": "code",
   "execution_count": 65,
   "metadata": {
    "collapsed": true,
    "deletable": true,
    "editable": true
   },
   "outputs": [],
   "source": [
    "matplotlib.rcParams.update({'font.size': 16})\n",
    "matplotlib.rcParams.update({'axes.titlesize': 16})\n",
    "matplotlib.rcParams.update({'figure.figsize': (10,8)})\n",
    "matplotlib.rcParams.update({'lines.linewidth': 2})\n",
    "matplotlib.rcParams.update({'legend.fontsize': 18})\n",
    "matplotlib.rcParams.update({'mathtext.fontset': 'cm'})\n",
    "matplotlib.rcParams.update({'ytick.major.size': 3})\n",
    "matplotlib.rcParams.update({'axes.labelsize': 16})\n",
    "matplotlib.rcParams.update({'ytick.labelsize': 16})\n",
    "matplotlib.rcParams.update({'xtick.labelsize': 16})"
   ]
  },
  {
   "cell_type": "code",
   "execution_count": 66,
   "metadata": {},
   "outputs": [],
   "source": [
    "ecco_dir = '/glade/work/patrizio/ECCO/'"
   ]
  },
  {
   "cell_type": "code",
   "execution_count": 67,
   "metadata": {},
   "outputs": [],
   "source": [
    "ntchunk=1\n",
    "nichunk = 90\n",
    "njchunk = 90\n",
    "nkchunk = 50"
   ]
  },
  {
   "cell_type": "markdown",
   "metadata": {},
   "source": [
    "Open the **ECCOv4r3** product as an xarray Dataset. The dataset is *lazily* evaluated, which is a good thing considering the size is around 100 GB.  "
   ]
  },
  {
   "cell_type": "code",
   "execution_count": 68,
   "metadata": {},
   "outputs": [],
   "source": [
    "ds = xr.open_zarr(ecco_dir +'eccov4r3', chunks={'time':ntchunk, 'k':nkchunk, 'j':njchunk, 'i':nichunk})"
   ]
  },
  {
   "cell_type": "code",
   "execution_count": 69,
   "metadata": {},
   "outputs": [
    {
     "data": {
      "text/plain": [
       "<xarray.Dataset>\n",
       "Dimensions:    (face: 13, i: 90, i_g: 90, j: 90, j_g: 90, k: 50, k_l: 50, k_p1: 51, k_u: 50, time: 288, time_snp: 287)\n",
       "Coordinates:\n",
       "    Depth      (face, j, i) float32 dask.array<shape=(13, 90, 90), chunksize=(13, 90, 90)>\n",
       "    PHrefC     (k) float32 dask.array<shape=(50,), chunksize=(50,)>\n",
       "    PHrefF     (k_p1) float32 dask.array<shape=(51,), chunksize=(51,)>\n",
       "    XC         (face, j, i) float32 dask.array<shape=(13, 90, 90), chunksize=(13, 90, 90)>\n",
       "    XG         (face, j_g, i_g) float32 dask.array<shape=(13, 90, 90), chunksize=(13, 90, 90)>\n",
       "    YC         (face, j, i) float32 dask.array<shape=(13, 90, 90), chunksize=(13, 90, 90)>\n",
       "    YG         (face, j_g, i_g) float32 dask.array<shape=(13, 90, 90), chunksize=(13, 90, 90)>\n",
       "    Z          (k) float32 dask.array<shape=(50,), chunksize=(50,)>\n",
       "    Zl         (k_l) float32 dask.array<shape=(50,), chunksize=(50,)>\n",
       "    Zp1        (k_p1) float32 dask.array<shape=(51,), chunksize=(51,)>\n",
       "    Zu         (k_u) float32 dask.array<shape=(50,), chunksize=(50,)>\n",
       "    drC        (k_p1) float32 dask.array<shape=(51,), chunksize=(51,)>\n",
       "    drF        (k) float32 dask.array<shape=(50,), chunksize=(50,)>\n",
       "    dxC        (face, j, i_g) float32 dask.array<shape=(13, 90, 90), chunksize=(13, 90, 90)>\n",
       "    dxG        (face, j_g, i) float32 dask.array<shape=(13, 90, 90), chunksize=(13, 90, 90)>\n",
       "    dyC        (face, j_g, i) float32 dask.array<shape=(13, 90, 90), chunksize=(13, 90, 90)>\n",
       "    dyG        (face, j, i_g) float32 dask.array<shape=(13, 90, 90), chunksize=(13, 90, 90)>\n",
       "  * face       (face) int64 0 1 2 3 4 5 6 7 8 9 10 11 12\n",
       "    hFacC      (k, face, j, i) float32 dask.array<shape=(50, 13, 90, 90), chunksize=(50, 13, 90, 90)>\n",
       "    hFacS      (k, face, j_g, i) float32 dask.array<shape=(50, 13, 90, 90), chunksize=(50, 13, 90, 90)>\n",
       "    hFacW      (k, face, j, i_g) float32 dask.array<shape=(50, 13, 90, 90), chunksize=(50, 13, 90, 90)>\n",
       "  * i          (i) int64 0 1 2 3 4 5 6 7 8 9 ... 80 81 82 83 84 85 86 87 88 89\n",
       "  * i_g        (i_g) int64 0 1 2 3 4 5 6 7 8 9 ... 80 81 82 83 84 85 86 87 88 89\n",
       "    iter       (time) int64 dask.array<shape=(288,), chunksize=(1,)>\n",
       "    iter_snp   (time_snp) int64 dask.array<shape=(287,), chunksize=(1,)>\n",
       "  * j          (j) int64 0 1 2 3 4 5 6 7 8 9 ... 80 81 82 83 84 85 86 87 88 89\n",
       "  * j_g        (j_g) int64 0 1 2 3 4 5 6 7 8 9 ... 80 81 82 83 84 85 86 87 88 89\n",
       "  * k          (k) int64 0 1 2 3 4 5 6 7 8 9 ... 40 41 42 43 44 45 46 47 48 49\n",
       "  * k_l        (k_l) int64 0 1 2 3 4 5 6 7 8 9 ... 40 41 42 43 44 45 46 47 48 49\n",
       "  * k_p1       (k_p1) int64 0 1 2 3 4 5 6 7 8 9 ... 42 43 44 45 46 47 48 49 50\n",
       "  * k_u        (k_u) int64 0 1 2 3 4 5 6 7 8 9 ... 40 41 42 43 44 45 46 47 48 49\n",
       "    rA         (face, j, i) float32 dask.array<shape=(13, 90, 90), chunksize=(13, 90, 90)>\n",
       "    rAs        (face, j_g, i) float32 dask.array<shape=(13, 90, 90), chunksize=(13, 90, 90)>\n",
       "    rAw        (face, j, i_g) float32 dask.array<shape=(13, 90, 90), chunksize=(13, 90, 90)>\n",
       "    rAz        (face, j_g, i_g) float32 dask.array<shape=(13, 90, 90), chunksize=(13, 90, 90)>\n",
       "  * time       (time) datetime64[ns] 1992-01-15 1992-02-13 ... 2015-12-14\n",
       "  * time_snp   (time_snp) datetime64[ns] 1992-02-01 1992-03-01 ... 2015-12-01\n",
       "Data variables:\n",
       "    ADVr_SLT   (time, k_l, face, j, i) float32 dask.array<shape=(288, 50, 13, 90, 90), chunksize=(1, 50, 13, 90, 90)>\n",
       "    ADVr_TH    (time, k_l, face, j, i) float32 dask.array<shape=(288, 50, 13, 90, 90), chunksize=(1, 50, 13, 90, 90)>\n",
       "    ADVx_SLT   (time, k, face, j, i_g) float32 dask.array<shape=(288, 50, 13, 90, 90), chunksize=(1, 50, 13, 90, 90)>\n",
       "    ADVx_TH    (time, k, face, j, i_g) float32 dask.array<shape=(288, 50, 13, 90, 90), chunksize=(1, 50, 13, 90, 90)>\n",
       "    ADVy_SLT   (time, k, face, j_g, i) float32 dask.array<shape=(288, 50, 13, 90, 90), chunksize=(1, 50, 13, 90, 90)>\n",
       "    ADVy_TH    (time, k, face, j_g, i) float32 dask.array<shape=(288, 50, 13, 90, 90), chunksize=(1, 50, 13, 90, 90)>\n",
       "    DFrE_SLT   (time, k_l, face, j, i) float32 dask.array<shape=(288, 50, 13, 90, 90), chunksize=(1, 50, 13, 90, 90)>\n",
       "    DFrE_TH    (time, k_l, face, j, i) float32 dask.array<shape=(288, 50, 13, 90, 90), chunksize=(1, 50, 13, 90, 90)>\n",
       "    DFrI_SLT   (time, k_l, face, j, i) float32 dask.array<shape=(288, 50, 13, 90, 90), chunksize=(1, 50, 13, 90, 90)>\n",
       "    DFrI_TH    (time, k_l, face, j, i) float32 dask.array<shape=(288, 50, 13, 90, 90), chunksize=(1, 50, 13, 90, 90)>\n",
       "    DFxE_SLT   (time, k, face, j, i_g) float32 dask.array<shape=(288, 50, 13, 90, 90), chunksize=(1, 50, 13, 90, 90)>\n",
       "    DFxE_TH    (time, k, face, j, i_g) float32 dask.array<shape=(288, 50, 13, 90, 90), chunksize=(1, 50, 13, 90, 90)>\n",
       "    DFyE_SLT   (time, k, face, j_g, i) float32 dask.array<shape=(288, 50, 13, 90, 90), chunksize=(1, 50, 13, 90, 90)>\n",
       "    DFyE_TH    (time, k, face, j_g, i) float32 dask.array<shape=(288, 50, 13, 90, 90), chunksize=(1, 50, 13, 90, 90)>\n",
       "    ETAN       (time, face, j, i) float32 dask.array<shape=(288, 13, 90, 90), chunksize=(1, 13, 90, 90)>\n",
       "    ETAN_snp   (time_snp, face, j, i) float32 dask.array<shape=(287, 13, 90, 90), chunksize=(1, 13, 90, 90)>\n",
       "    GEOFLX     (face, j, i) float32 dask.array<shape=(13, 90, 90), chunksize=(7, 90, 90)>\n",
       "    SALT       (time, k, face, j, i) float32 dask.array<shape=(288, 50, 13, 90, 90), chunksize=(1, 50, 13, 90, 90)>\n",
       "    SALT_snp   (time_snp, k, face, j, i) float32 dask.array<shape=(287, 50, 13, 90, 90), chunksize=(1, 50, 13, 90, 90)>\n",
       "    SFLUX      (time, face, j, i) float32 dask.array<shape=(288, 13, 90, 90), chunksize=(1, 13, 90, 90)>\n",
       "    TFLUX      (time, face, j, i) float32 dask.array<shape=(288, 13, 90, 90), chunksize=(1, 13, 90, 90)>\n",
       "    THETA      (time, k, face, j, i) float32 dask.array<shape=(288, 50, 13, 90, 90), chunksize=(1, 50, 13, 90, 90)>\n",
       "    THETA_snp  (time_snp, k, face, j, i) float32 dask.array<shape=(287, 50, 13, 90, 90), chunksize=(1, 50, 13, 90, 90)>\n",
       "    UVELMASS   (time, k, face, j, i_g) float32 dask.array<shape=(288, 50, 13, 90, 90), chunksize=(1, 50, 13, 90, 90)>\n",
       "    VVELMASS   (time, k, face, j_g, i) float32 dask.array<shape=(288, 50, 13, 90, 90), chunksize=(1, 50, 13, 90, 90)>\n",
       "    WVELMASS   (time, k_l, face, j, i) float32 dask.array<shape=(288, 50, 13, 90, 90), chunksize=(1, 50, 13, 90, 90)>\n",
       "    oceFWflx   (time, face, j, i) float32 dask.array<shape=(288, 13, 90, 90), chunksize=(1, 13, 90, 90)>\n",
       "    oceQsw     (time, face, j, i) float32 dask.array<shape=(288, 13, 90, 90), chunksize=(1, 13, 90, 90)>\n",
       "    oceSPtnd   (time, k, face, j, i) float32 dask.array<shape=(288, 50, 13, 90, 90), chunksize=(1, 50, 13, 90, 90)>"
      ]
     },
     "execution_count": 69,
     "metadata": {},
     "output_type": "execute_result"
    }
   ],
   "source": [
    "ds"
   ]
  },
  {
   "cell_type": "code",
   "execution_count": 70,
   "metadata": {
    "collapsed": false,
    "deletable": true,
    "editable": true
   },
   "outputs": [
    {
     "data": {
      "text/plain": [
       "0.134190544604"
      ]
     },
     "execution_count": 70,
     "metadata": {},
     "output_type": "execute_result"
    }
   ],
   "source": [
    "ds.nbytes / 1e12"
   ]
  },
  {
   "cell_type": "markdown",
   "metadata": {
    "deletable": true,
    "editable": true
   },
   "source": [
    "Drop the coordinates from the main dataset; a trick to make things work a bit faster."
   ]
  },
  {
   "cell_type": "code",
   "execution_count": 71,
   "metadata": {
    "collapsed": true,
    "deletable": true,
    "editable": true
   },
   "outputs": [],
   "source": [
    "coords = ds.coords.to_dataset().reset_coords()\n",
    "ds = ds.reset_coords(drop=True)"
   ]
  },
  {
   "cell_type": "markdown",
   "metadata": {
    "deletable": true,
    "editable": true
   },
   "source": [
    "Load ECCO mixed layer depth, which is stored on GLADE and originally downloaded from my **Google Cloud Bucket**. Data can be easily and inexpensively be stored on the **Google cloud** here: https://cloud.google.com/"
   ]
  },
  {
   "cell_type": "code",
   "execution_count": 72,
   "metadata": {
    "collapsed": true,
    "deletable": true,
    "editable": true
   },
   "outputs": [],
   "source": [
    "ds_MXLDEPTH = xr.open_zarr(ecco_dir + 'ecco-data/MXLDEPTH')\n",
    "mxldepth = ds_MXLDEPTH.MXLDEPTH"
   ]
  },
  {
   "cell_type": "markdown",
   "metadata": {
    "deletable": true,
    "editable": true
   },
   "source": [
    "For some reason the mixed layer depth coordinate indices are displaced by +1 in relation to the ECCO data stored on Pangeo. The coordinates need to be matched for future calculations. "
   ]
  },
  {
   "cell_type": "code",
   "execution_count": 73,
   "metadata": {
    "collapsed": false,
    "deletable": true,
    "editable": true
   },
   "outputs": [
    {
     "data": {
      "text/plain": [
       "<xarray.DataArray 'MXLDEPTH' (face: 13, time: 288, j: 90, i: 90)>\n",
       "dask.array<shape=(13, 288, 90, 90), dtype=float64, chunksize=(1, 288, 90, 90)>\n",
       "Coordinates:\n",
       "  * i        (i) int64 0 1 2 3 4 5 6 7 8 9 10 ... 80 81 82 83 84 85 86 87 88 89\n",
       "  * j        (j) int64 0 1 2 3 4 5 6 7 8 9 10 ... 80 81 82 83 84 85 86 87 88 89\n",
       "    lat      (face, j, i) float64 dask.array<shape=(13, 90, 90), chunksize=(1, 90, 90)>\n",
       "    lon      (face, j, i) float64 dask.array<shape=(13, 90, 90), chunksize=(1, 90, 90)>\n",
       "    tim      (time) datetime64[ns] dask.array<shape=(288,), chunksize=(288,)>\n",
       "  * time     (time) float64 1.0 2.0 3.0 4.0 5.0 ... 285.0 286.0 287.0 288.0\n",
       "Dimensions without coordinates: face\n",
       "Attributes:\n",
       "    long_name:  Mixed-Layer Depth (>0)\n",
       "    units:      m"
      ]
     },
     "execution_count": 73,
     "metadata": {},
     "output_type": "execute_result"
    }
   ],
   "source": [
    "mxldepth.coords['i'] = coords['i']\n",
    "mxldepth.coords['j'] = coords['j']\n",
    "mxldepth"
   ]
  },
  {
   "cell_type": "markdown",
   "metadata": {
    "deletable": true,
    "editable": true
   },
   "source": [
    "Calculate climatological mean mixed layer depth. We will be using this later to mask grid points outside of the mixed layer. "
   ]
  },
  {
   "cell_type": "code",
   "execution_count": 74,
   "metadata": {
    "collapsed": true,
    "deletable": true,
    "editable": true
   },
   "outputs": [],
   "source": [
    "mxldepth_clim=mxldepth.mean(dim='time').load()\n",
    "#mxldepth_clim=mxldepth.mean(dim='time').persist()"
   ]
  },
  {
   "cell_type": "markdown",
   "metadata": {
    "deletable": true,
    "editable": true
   },
   "source": [
    "Make a mask of points outside the ocean mixed layer:"
   ]
  },
  {
   "cell_type": "code",
   "execution_count": 75,
   "metadata": {
    "collapsed": true,
    "deletable": true,
    "editable": true
   },
   "outputs": [],
   "source": [
    "mxlpoints = np.abs(coords['Z']) <= mxldepth_clim"
   ]
  },
  {
   "cell_type": "markdown",
   "metadata": {
    "deletable": true,
    "editable": true
   },
   "source": [
    "Import the plotting library. This will help with mapping fields from the LLC90 grid that ECCO utilizes (see https://www.geosci-model-dev.net/8/3071/2015/gmd-8-3071-2015.pdf) to a standard latitude-longitude grid. "
   ]
  },
  {
   "cell_type": "markdown",
   "metadata": {
    "deletable": true,
    "editable": true
   },
   "source": [
    "Let's test how long it takes to load sea-surface temperature (SST) into memory."
   ]
  },
  {
   "cell_type": "code",
   "execution_count": 76,
   "metadata": {
    "collapsed": true,
    "deletable": true,
    "editable": true
   },
   "outputs": [],
   "source": [
    "#%time ds.THETA.isel(k=0).mean(dim='time').load()"
   ]
  },
  {
   "cell_type": "markdown",
   "metadata": {
    "deletable": true,
    "editable": true
   },
   "source": [
    "`xgcm` is a python package for working with the datasets produced by numerical General Circulation Models (GCMs) and similar gridded datasets that are amenable to finite volume analysis. This will come in handy later when performing calculus on the LLC90 grid."
   ]
  },
  {
   "cell_type": "code",
   "execution_count": 77,
   "metadata": {
    "collapsed": true,
    "deletable": true,
    "editable": true
   },
   "outputs": [],
   "source": [
    "import xgcm\n",
    "\n",
    "# define the connectivity between faces\n",
    "face_connections = {'face':\n",
    "                    {0: {'X':  ((12, 'Y', False), (3, 'X', False)),\n",
    "                         'Y':  (None,             (1, 'Y', False))},\n",
    "                     1: {'X':  ((11, 'Y', False), (4, 'X', False)),\n",
    "                         'Y':  ((0, 'Y', False),  (2, 'Y', False))},\n",
    "                     2: {'X':  ((10, 'Y', False), (5, 'X', False)),\n",
    "                         'Y':  ((1, 'Y', False),  (6, 'X', False))},\n",
    "                     3: {'X':  ((0, 'X', False),  (9, 'Y', False)),\n",
    "                         'Y':  (None,             (4, 'Y', False))},\n",
    "                     4: {'X':  ((1, 'X', False),  (8, 'Y', False)),\n",
    "                         'Y':  ((3, 'Y', False),  (5, 'Y', False))},\n",
    "                     5: {'X':  ((2, 'X', False),  (7, 'Y', False)),\n",
    "                         'Y':  ((4, 'Y', False),  (6, 'Y', False))},\n",
    "                     6: {'X':  ((2, 'Y', False),  (7, 'X', False)),\n",
    "                         'Y':  ((5, 'Y', False),  (10, 'X', False))},\n",
    "                     7: {'X':  ((6, 'X', False),  (8, 'X', False)),\n",
    "                         'Y':  ((5, 'X', False),  (10, 'Y', False))},\n",
    "                     8: {'X':  ((7, 'X', False),  (9, 'X', False)),\n",
    "                         'Y':  ((4, 'X', False),  (11, 'Y', False))},\n",
    "                     9: {'X':  ((8, 'X', False),  None),\n",
    "                         'Y':  ((3, 'X', False),  (12, 'Y', False))},\n",
    "                     10: {'X': ((6, 'Y', False),  (11, 'X', False)),\n",
    "                          'Y': ((7, 'Y', False),  (2, 'X', False))},\n",
    "                     11: {'X': ((10, 'X', False), (12, 'X', False)),\n",
    "                          'Y': ((8, 'Y', False),  (1, 'X', False))},\n",
    "                     12: {'X': ((11, 'X', False), None),\n",
    "                          'Y': ((9, 'Y', False),  (0, 'X', False))}}}\n",
    "\n",
    "# create the grid object\n",
    "grid = xgcm.Grid(ds, periodic=False, face_connections=face_connections)"
   ]
  },
  {
   "cell_type": "markdown",
   "metadata": {
    "deletable": true,
    "editable": true
   },
   "source": [
    "## Deriving the Temperature Variance Equation"
   ]
  },
  {
   "cell_type": "markdown",
   "metadata": {
    "deletable": true,
    "editable": true
   },
   "source": [
    "Conservation of heat requires the following equation:"
   ]
  },
  {
   "cell_type": "markdown",
   "metadata": {
    "deletable": true,
    "editable": true
   },
   "source": [
    "\n",
    "$\\large\n",
    "\\begin{align}\n",
    "\\frac{\\partial (s^{*} \\theta)}{\\partial t} = -\\nabla_{z^{*}} \\cdot (s^{*} \\mathbf{u} \\theta) - \\frac{\\partial (s^{*}w \\theta)}{\\partial z^{*}} +   s^{*}\\mathit{D}_\\theta + \\frac{s^{*}}{\\rho c_p} \\frac {\\partial \\mathit{F}_\\theta}{\\partial z} \n",
    "\\end{align}$\n"
   ]
  },
  {
   "cell_type": "markdown",
   "metadata": {
    "deletable": true,
    "editable": true
   },
   "source": [
    "Here, $s^{*} = 1 + \\eta / H$ is a scale factor, which arises because the equations are expressed in terms of a re-scaled height coordinate:"
   ]
  },
  {
   "cell_type": "markdown",
   "metadata": {
    "deletable": true,
    "editable": true
   },
   "source": [
    "$\\large z^{*} = \\frac{ z - \\eta (x,y,t)}{H(x,y) + \\eta (x,y,t)} H(x,y)$"
   ]
  },
  {
   "cell_type": "markdown",
   "metadata": {
    "deletable": true,
    "editable": true
   },
   "source": [
    "where $\\eta$ is the surface height and $H$ is the ocean depth."
   ]
  },
  {
   "cell_type": "markdown",
   "metadata": {
    "deletable": true,
    "editable": true
   },
   "source": [
    "In the conservation of heat equation, $\\theta$ is the potential temperature, $\\mathbf{u}$ and $w$ are total horizontal and vertical velocities, respectively, $\\mathit{D_\\theta}$ is the heat flux convergence due to diffusive procesess, and $\\mathit{F_\\theta}$ is the surface forcing (sum of surface latent, sensible and radiative heat fluxes) and geothermal forcing term. "
   ]
  },
  {
   "cell_type": "markdown",
   "metadata": {
    "deletable": true,
    "editable": true
   },
   "source": [
    "At a given depth $z^{*}=z_k$ with vertical thickness $\\Delta z^{*} = \\Delta {z_k}$, the conservation equation becomes: "
   ]
  },
  {
   "cell_type": "markdown",
   "metadata": {
    "deletable": true,
    "editable": true
   },
   "source": [
    "\n",
    "$\\large\n",
    "\\begin{align}\n",
    "\\rho c_p \\Delta z_k \\frac{\\partial (s^{*} \\theta)}{\\partial t} = -\\rho c_p \\Delta z_k \\left(\\nabla_{z^{*}} \\cdot (s^{*} \\mathbf{u} \\theta) - \\frac{\\Delta (s^{*}w \\theta)}{\\Delta z_k} +   s^{*}\\mathit{D}_\\theta \\right) + s^{*} \\Delta \\mathit{F}_\\theta\n",
    "\\end{align}$"
   ]
  },
  {
   "cell_type": "markdown",
   "metadata": {
    "deletable": true,
    "editable": true
   },
   "source": [
    "where $\\Delta = x_{k+1} - x_k$, is the vertical difference in a variable $x$ at depth $z_k$. This is essentially the vertically discretized version of the conservation equation."
   ]
  },
  {
   "cell_type": "markdown",
   "metadata": {
    "deletable": true,
    "editable": true
   },
   "source": [
    "For simplicity, we now define the following terms:\n",
    "\n",
    "$\\large\n",
    "\\begin{align}\n",
    "    T &= s^{*} \\theta \\\\\n",
    "    C_{T,adv} &= -\\rho c_p \\Delta z_k \\left( \\nabla_{z^{*}} \\cdot (s^{*} \\mathbf{u} \\theta) - \\frac{\\Delta (s^{*}w \\theta)}{\\Delta z_k} \\right) \\\\\n",
    "    C_{T,diff} &= \\rho c_p \\Delta z_k s^{*}\\mathit{D}_\\theta \\\\\n",
    "    C_{T,forc} &= s^{*} \\Delta \\mathit{F}_\\theta\n",
    "\\end{align}$"
   ]
  },
  {
   "cell_type": "markdown",
   "metadata": {
    "deletable": true,
    "editable": true
   },
   "source": [
    "where $T$ is the scaled potential temperature (essentially equal to the actual temperature), $C_{T,adv}$ is the advective heat flux convergence, $C_{T,diff}$ is the diffusive heat flux convergence and $C_{T,forc}$ is the surface forcing. This yields the following equation:"
   ]
  },
  {
   "cell_type": "markdown",
   "metadata": {
    "deletable": true,
    "editable": true
   },
   "source": [
    "$\\large\n",
    "\\begin{align}\n",
    "c_o(z) \\frac{\\partial T}{\\partial t} = C_{T,adv} + C_{T,diff} + C_{T,forc} \n",
    "\\end{align}$"
   ]
  },
  {
   "cell_type": "markdown",
   "metadata": {
    "deletable": true,
    "editable": true
   },
   "source": [
    "where I have defined $c_o(z) = \\rho c_p \\Delta z_k$ as the ocean heat capacity at depth $z_k$. To form the temperature variance equation, we must now subtract the climatological mean (anomalies now denoted with the prime notation) and discretize in time. This yields the following equation:"
   ]
  },
  {
   "cell_type": "markdown",
   "metadata": {
    "deletable": true,
    "editable": true
   },
   "source": [
    "$\\large\n",
    "\\begin{align}\n",
    "c_o(z) \\frac{T'(t+\\Delta t) - T'(t)}{\\Delta t} = C'_{T,adv} + C'_{T,diff} + C'_{T,forc}\n",
    "\\end{align}$"
   ]
  },
  {
   "cell_type": "markdown",
   "metadata": {
    "deletable": true,
    "editable": true
   },
   "source": [
    "Squaring both sides and taking the time average of the previous equation (denoted by overbar) yields the following equation:"
   ]
  },
  {
   "cell_type": "markdown",
   "metadata": {
    "deletable": true,
    "editable": true
   },
   "source": [
    "$\\large\n",
    "\\begin{align}\n",
    "2\\frac{c^2_o(z)}{\\Delta t^2} \\left(\\overline{T'^2(t)} - \\overline{T'(t+\\Delta t)T'(t)}\\right) = \\overline{\\left(C'_{T,adv} + C'_{T,diff} + C'_{T,forc}\\right)^2}\n",
    "\\end{align}$"
   ]
  },
  {
   "cell_type": "markdown",
   "metadata": {
    "deletable": true,
    "editable": true
   },
   "source": [
    "Rewritting $\\overline{T'(t+\\Delta t)T'(t)}$ as $r_1 \\overline{T'^2(t)}$, where $r_1$ is the lag-1 temperature autocorrelation, and defining $\\sigma^2_T = \\overline{T'^2(t)}$ as the temperature variance yields the following equation: "
   ]
  },
  {
   "cell_type": "markdown",
   "metadata": {
    "deletable": true,
    "editable": true
   },
   "source": [
    "$\\large\n",
    "\\begin{align}\n",
    "\\sigma^2_T (z) = \\frac{\\Delta t^2}{2 c^2_o(z) (1-r_1)} = \\overline{\\left(C'_{T,adv} + C'_{T,diff} + C'_{T,forc}\\right)^2}\n",
    "\\end{align}$\n"
   ]
  },
  {
   "cell_type": "markdown",
   "metadata": {
    "deletable": true,
    "editable": true
   },
   "source": [
    "Finally, we re-write the RHS of the previous equation slightly by substituting a single instance of the conservation equation. This yields:"
   ]
  },
  {
   "cell_type": "markdown",
   "metadata": {
    "deletable": true,
    "editable": true
   },
   "source": [
    "$\\large\n",
    "\\begin{align}\n",
    "\\sigma^2_T (z) = \\frac{\\Delta t^2}{2c_o(z) (1-r_1)} \\left(\\overline{\\frac{\\partial T'}{\\partial t} C'_{T,adv}} + \\overline{\\frac{\\partial T'}{\\partial t} C'_{T,diff}} + \\overline{\\frac{\\partial T'}{\\partial t} C'_{T,forc}}\\right)\n",
    "\\end{align}$"
   ]
  },
  {
   "cell_type": "markdown",
   "metadata": {
    "deletable": true,
    "editable": true
   },
   "source": [
    "The temperature variance at depth $z$ is therefore determined by the covariance between the time tendency of the temperature and the different terms in the ocean energy budget, scaled by the factor $\\frac{\\Delta t^2}{2c_o(z) (1-r_1)}$. \n",
    "\n",
    "We will integrate this equation across the climatological ocean mixed layer to better understand the processes that contribute to sea-surface temperature (SST) variance. "
   ]
  },
  {
   "cell_type": "code",
   "execution_count": 78,
   "metadata": {
    "collapsed": true,
    "deletable": true,
    "editable": true
   },
   "outputs": [],
   "source": [
    "# Face numbers to analyze\n",
    "# 0: Southern Ocean (Atlantic)\n",
    "# 1: South Atlantic Ocean / Africa \n",
    "# 2: East North Atlantic / Europe\n",
    "# 3: Southern Ocean (Indian)\n",
    "# 4: Indian Ocean\n",
    "# 5: Asia\n",
    "# 6: Arctic\n",
    "# 7: North Pacific (central)\n",
    "# 8: West South Pacific\n",
    "# 9: Southern Ocean (West Pacific)\n",
    "# 10: North America / West North Atlantic\n",
    "# 11: East South Pacific / South America\n",
    "# 12: Southern Ocean(East Pacific)\n",
    "#facen = [5,7]\n",
    "\n",
    "#Note: longitude bounds can either be 0 < bounds < 360, or -180 < bounds < 180. \n",
    "#The only requirement is that the left longitude bound is less than the right bound \n",
    "#(along date line must use 0 < bounds < 360).\n",
    "#(along prime meridian must use -180 < bounds < 180)\n",
    "\n",
    "# Complete global \n",
    "#facen=[0,1,2,3,4,5,6,7,8,9,10,11,12]\n",
    "#bnds = [0,359.9,-90,90]\n",
    "\n",
    "#facen=[]\n",
    "#bnds = [0,359.9,-90,90]\n",
    "\n",
    "# Global (excluding polar regions)\n",
    "#facen=[1,2,4,5,7,8,10,11]\n",
    "#bnds = [0,359.9,-58,70]\n",
    "\n",
    "#Southern Ocean (Atlantic)\n",
    "#facen=[0]\n",
    "#bnds = [-20,20,-58,-90]\n",
    "\n",
    "#1: South Atlantic Ocean / Africa\n",
    "#facen=[1]\n",
    "#bnds = [-38,30,-58,10]\n",
    "\n",
    "#2: East North Atlantic \n",
    "facen=[2]\n",
    "bnds = [-38,30,10,70]\n",
    "\n",
    "#3: Southern Ocean (Indian)\n",
    "#facen=[3]\n",
    "#bnds = [60,143,-58,-90]\n",
    "\n",
    "#4: Indian Ocean\n",
    "#facen=[4]\n",
    "#bnds = [60,143,-58,10]\n",
    "\n",
    "#7: North Pacific (central)\n",
    "#facen=[7]\n",
    "#bnds = [145,230,10,70]\n",
    "\n",
    "#8: West South Pacific\n",
    "#facen=[8]\n",
    "#bnds = [145,230,-58,10]\n",
    "\n",
    "#11: East South Pacific\n",
    "#facen=[11]\n",
    "#bnds = [-128,-38,-58,10]\n",
    "\n",
    "#2, 10: North Atlantic\n",
    "#facen=[2,10]\n",
    "#bnds = [-80,0,10,70]\n",
    "\n",
    "#5,7,10: North Pacific\n",
    "#facen=[5,7,10]\n",
    "#bnds = [100,270,10,70]\n",
    "\n",
    "#4,5,7,8,10,11: Pacific\n",
    "#facen=[4,5,7,8,10,11]\n",
    "#bnds = [100,300,-70,70]\n",
    "\n",
    "#5,7,8,10,11: Tropical Pacific\n",
    "#facen=[5,7,8,10,11]\n",
    "#bnds = [145,290,-15,15]\n",
    "\n",
    "#5,7: KOE\n",
    "#facen=[5,7]\n",
    "#bnds = [120,180,15,60]\n",
    "\n",
    "lons = coords.XC.isel(face=facen)\n",
    "lats = coords.YC.isel(face=facen)"
   ]
  },
  {
   "cell_type": "markdown",
   "metadata": {
    "deletable": true,
    "editable": true
   },
   "source": [
    "Load the required monthly fields."
   ]
  },
  {
   "cell_type": "code",
   "execution_count": 79,
   "metadata": {
    "collapsed": true,
    "deletable": true,
    "editable": true
   },
   "outputs": [],
   "source": [
    "# Load monthly temperature snapshot\n",
    "THETAsnp = ds.THETA_snp.isel(face=facen)\n",
    "THETAsnp = THETAsnp.rename({'time_snp':'time'})\n",
    "THETAsnp_anom = THETAsnp\n",
    "\n",
    "#ntchunk_snp = THETAsnp.shape[0]\n",
    "#THETAsnp_anom = THETAsnp_anom.chunk({'time':ntchunk})\n",
    "\n",
    "\n",
    "# Load monthly surface height snapsnot\n",
    "ETANsnp = ds.ETAN_snp.isel(face=facen)\n",
    "ETANsnp = ETANsnp.rename({'time_snp':'time'})\n",
    "ETANsnp_anom = ETANsnp\n",
    "\n",
    "#ETANsnp_anom = ETANsnp_anom.chunk({'time':ntchunk})\n",
    "\n",
    "\n",
    "# Ocean depth (m)\n",
    "Depth = coords.Depth.isel(face=facen).load()\n",
    "\n",
    "# Calculate s\n",
    "sstar = (1+ETANsnp/Depth)\n",
    "#sstar = sstar.chunk({'time':ntchunk})\n",
    "\n",
    "# Calculate s^*theta (essentially equal to monthly anomalies of theta)\n",
    "HCsnp_anom = THETAsnp*sstar\n",
    "\n",
    "#HCnp_anom = HCsnp_anom.chunk({'time':ntchunk})\n",
    "\n",
    "# Surface heat flux\n",
    "Qs_anom = ds.TFLUX.isel(face=facen)\n",
    "oceQsw_anom = ds.oceQsw.isel(face=facen)\n",
    "\n",
    "# Advection\n",
    "ADVx_TH_anom = ds.ADVx_TH.isel(face=facen)\n",
    "ADVy_TH_anom = ds.ADVy_TH.isel(face=facen)\n",
    "ADVr_TH_anom = ds.ADVr_TH.isel(face=facen)\n",
    "\n",
    "# Diffusion \n",
    "DFxE_TH_anom = ds.DFxE_TH.isel(face=facen)\n",
    "DFyE_TH_anom = ds.DFyE_TH.isel(face=facen)\n",
    "DFrE_TH_anom = ds.DFrE_TH.isel(face=facen)\n",
    "DFrI_TH_anom = ds.DFrI_TH.isel(face=facen)"
   ]
  },
  {
   "cell_type": "markdown",
   "metadata": {
    "deletable": true,
    "editable": true
   },
   "source": [
    "Note that $s^{*}$ is very small, such that $s^{*}\\theta \\approx \\theta$."
   ]
  },
  {
   "cell_type": "markdown",
   "metadata": {
    "deletable": true,
    "editable": true
   },
   "source": [
    "`mapper` is the object we will use to plot fields later."
   ]
  },
  {
   "cell_type": "code",
   "execution_count": 80,
   "metadata": {
    "collapsed": true,
    "deletable": true,
    "editable": true
   },
   "outputs": [],
   "source": [
    "mapper = LLCMapper(coords.isel(face=facen))"
   ]
  },
  {
   "cell_type": "code",
   "execution_count": 81,
   "metadata": {
    "collapsed": false,
    "deletable": true,
    "editable": true
   },
   "outputs": [
    {
     "data": {
      "text/plain": [
       "<Figure size 576x432 with 0 Axes>"
      ]
     },
     "metadata": {},
     "output_type": "display_data"
    },
    {
     "data": {
      "image/png": "[encoded data removed]",
      "text/plain": [
       "<Figure size 864x432 with 2 Axes>"
      ]
     },
     "metadata": {
      "needs_background": "light"
     },
     "output_type": "display_data"
    }
   ],
   "source": [
    "plt.figure(figsize=(8,6))\n",
    "#cmap = plt.cm.cubehelix_r\n",
    "#cmap = cmap.set_bad('grey', 1.)\n",
    "#ecco.plot_proj_to_latlon_grid(lons,lats,THETAsnp_anom.isel(time=10,k=0), bnds=bnds, cmap=plt.cm.cubehelix_r)\n",
    "m,ax=mapper(THETAsnp_anom.isel(time=10,k=0), bnds=bnds, cmap='cubehelix_r', vmin=0,vmax=30)"
   ]
  },
  {
   "cell_type": "markdown",
   "metadata": {
    "deletable": true,
    "editable": true
   },
   "source": [
    "Before doing the budget calculations, a few parameters need to be defined:"
   ]
  },
  {
   "cell_type": "code",
   "execution_count": 82,
   "metadata": {},
   "outputs": [
    {
     "data": {
      "text/plain": [
       "(<cartopy.mpl.geoaxes.GeoAxesSubplot at 0x2b8f7f684390>,\n",
       " <cartopy.mpl.geoaxes.GeoAxesSubplot at 0x2b8f7f684390>)"
      ]
     },
     "execution_count": 82,
     "metadata": {},
     "output_type": "execute_result"
    },
    {
     "data": {
      "text/plain": [
       "<Figure size 576x432 with 0 Axes>"
      ]
     },
     "metadata": {},
     "output_type": "display_data"
    },
    {
     "data": {
      "image/png": "[encoded data removed]",
      "text/plain": [
       "<Figure size 864x432 with 2 Axes>"
      ]
     },
     "metadata": {
      "needs_background": "light"
     },
     "output_type": "display_data"
    }
   ],
   "source": [
    "plt.figure(figsize=(8,6))\n",
    "mapper(HCsnp_anom.isel(time=10,k=0), bnds=bnds, cmap='cubehelix_r', vmin=0,vmax=30)"
   ]
  },
  {
   "cell_type": "code",
   "execution_count": 83,
   "metadata": {
    "collapsed": true,
    "deletable": true,
    "editable": true
   },
   "outputs": [],
   "source": [
    "dt = coords.time_snp[1:].load()\n",
    "dt = dt.rename({'time_snp': 'time'})\n",
    "# delta t in seconds. Note: divide by 10**9 to convert nanoseconds to seconds\n",
    "dt.values = [float(t)/10**9 for t in np.diff(coords.time_snp)]\n",
    "\n",
    "# time axis of dt should be the same as of the monthly averages\n",
    "dt.time.values = coords.time[1:-1].values"
   ]
  },
  {
   "cell_type": "code",
   "execution_count": 84,
   "metadata": {
    "collapsed": true,
    "deletable": true,
    "editable": true
   },
   "outputs": [],
   "source": [
    "rho0 = 1029 #sea-water density (kg/m^3)\n",
    "c_p = 3994 #sea-water heat capacity (J/kg/K)\n",
    "\n",
    "# Constants for surface heat penetration (from Table 2 of Paulson and Simpson, 1977)\n",
    "R = 0.62\n",
    "zeta1 = 0.6\n",
    "zeta2 = 20.0"
   ]
  },
  {
   "cell_type": "code",
   "execution_count": 85,
   "metadata": {
    "collapsed": true,
    "deletable": true,
    "editable": true
   },
   "outputs": [],
   "source": [
    "dxG = coords.dxG.isel(face=facen).load()\n",
    "dyG = coords.dyG.isel(face=facen).load()"
   ]
  },
  {
   "cell_type": "code",
   "execution_count": 86,
   "metadata": {
    "collapsed": true,
    "deletable": true,
    "editable": true
   },
   "outputs": [],
   "source": [
    "# Vertical grid spacing\n",
    "drF = coords.drF.load()\n",
    "hFacC = coords.hFacC.isel(face=facen).load()\n",
    "rA = coords.rA.isel(face=facen).load()\n",
    "vol = drF*hFacC*rA.load()"
   ]
  },
  {
   "cell_type": "code",
   "execution_count": 87,
   "metadata": {
    "collapsed": true,
    "deletable": true,
    "editable": true
   },
   "outputs": [],
   "source": [
    "# Make copy of hFacC\n",
    "mskC = hFacC.copy(deep=True).load()\n",
    "\n",
    "# Change all fractions (ocean) to 1. land = 0\n",
    "mskC.values[mskC.values>0] = 1"
   ]
  },
  {
   "cell_type": "code",
   "execution_count": 88,
   "metadata": {
    "collapsed": true,
    "deletable": true,
    "editable": true
   },
   "outputs": [],
   "source": [
    "# Make 2D land mask for surface (This is just for plotting/mapping purposes)\n",
    "land_mask = mskC[0]\n",
    "land_mask.values[land_mask.values==0] = np.nan"
   ]
  },
  {
   "cell_type": "markdown",
   "metadata": {
    "deletable": true,
    "editable": true
   },
   "source": [
    "## Evaluating the heat budget"
   ]
  },
  {
   "cell_type": "markdown",
   "metadata": {
    "deletable": true,
    "editable": true
   },
   "source": [
    "### Total Tendency"
   ]
  },
  {
   "cell_type": "code",
   "execution_count": 89,
   "metadata": {
    "collapsed": true,
    "deletable": true,
    "editable": true
   },
   "outputs": [],
   "source": [
    "# Total tendency (degC/month)\n",
    "tendH_perMonth = (HCsnp_anom.shift(time=-1)-HCsnp_anom)[:-1]\n",
    "#tendH_perMonth = HCsnp_anom[:]-HCsnp_anom[:-1]"
   ]
  },
  {
   "cell_type": "code",
   "execution_count": 90,
   "metadata": {
    "collapsed": false,
    "deletable": true,
    "editable": true
   },
   "outputs": [
    {
     "data": {
      "text/plain": [
       "<xarray.DataArray (time: 286, k: 50, face: 1, j: 90, i: 90)>\n",
       "dask.array<shape=(286, 50, 1, 90, 90), dtype=float32, chunksize=(1, 50, 1, 90, 90)>\n",
       "Coordinates:\n",
       "  * face     (face) int64 2\n",
       "  * i        (i) int64 0 1 2 3 4 5 6 7 8 9 10 ... 80 81 82 83 84 85 86 87 88 89\n",
       "  * j        (j) int64 0 1 2 3 4 5 6 7 8 9 10 ... 80 81 82 83 84 85 86 87 88 89\n",
       "  * k        (k) int64 0 1 2 3 4 5 6 7 8 9 10 ... 40 41 42 43 44 45 46 47 48 49\n",
       "  * time     (time) datetime64[ns] 1992-02-01 1992-03-01 ... 2015-11-01"
      ]
     },
     "execution_count": 90,
     "metadata": {},
     "output_type": "execute_result"
    }
   ],
   "source": [
    "tendH_perMonth"
   ]
  },
  {
   "cell_type": "code",
   "execution_count": 91,
   "metadata": {
    "collapsed": true,
    "deletable": true,
    "editable": true
   },
   "outputs": [],
   "source": [
    "# Make sure time axis is the same as for the monthly variables\n",
    "tendH_perMonth.time.values = ds.time[1:-1].values"
   ]
  },
  {
   "cell_type": "code",
   "execution_count": 92,
   "metadata": {
    "collapsed": true,
    "deletable": true,
    "editable": true
   },
   "outputs": [],
   "source": [
    "# Convert tendency from 1/month to 1/s\n",
    "tendH_perSec = tendH_perMonth/dt\n",
    "tendH_perSec = tendH_perSec.transpose('face','time', 'k', 'j', 'i')"
   ]
  },
  {
   "cell_type": "code",
   "execution_count": 93,
   "metadata": {
    "collapsed": false,
    "deletable": true,
    "editable": true
   },
   "outputs": [],
   "source": [
    "#%time tendH_perSec.load()\n",
    "#%time tendH_perSec.persist()"
   ]
  },
  {
   "cell_type": "code",
   "execution_count": 94,
   "metadata": {
    "collapsed": true,
    "deletable": true,
    "editable": true
   },
   "outputs": [],
   "source": [
    "# Define tendH array with correct dimensions\n",
    "tendH = xr.DataArray(np.nan*np.zeros([len(facen),np.shape(tendH_perSec)[1]+2,50,90,90]),\n",
    "                     coords={'face': facen, 'time': range(np.shape(tendH_perSec)[1]+2),'k': np.array(range(0,50)),\n",
    "                             'j': np.array(range(0,90)),'i': np.array(range(0,90))},dims=['face', 'time','k', 'j','i'])\n"
   ]
  },
  {
   "cell_type": "code",
   "execution_count": 95,
   "metadata": {
    "collapsed": false,
    "deletable": true,
    "editable": true
   },
   "outputs": [
    {
     "data": {
      "text/plain": [
       "<xarray.DataArray (face: 1, time: 288, k: 50, j: 90, i: 90)>\n",
       "array([[[[[nan, ..., nan],\n",
       "          ...,\n",
       "          [nan, ..., nan]],\n",
       "\n",
       "         ...,\n",
       "\n",
       "         [[nan, ..., nan],\n",
       "          ...,\n",
       "          [nan, ..., nan]]],\n",
       "\n",
       "\n",
       "        ...,\n",
       "\n",
       "\n",
       "        [[[nan, ..., nan],\n",
       "          ...,\n",
       "          [nan, ..., nan]],\n",
       "\n",
       "         ...,\n",
       "\n",
       "         [[nan, ..., nan],\n",
       "          ...,\n",
       "          [nan, ..., nan]]]]])\n",
       "Coordinates:\n",
       "  * face     (face) int64 2\n",
       "  * time     (time) int64 0 1 2 3 4 5 6 7 8 ... 280 281 282 283 284 285 286 287\n",
       "  * k        (k) int64 0 1 2 3 4 5 6 7 8 9 10 ... 40 41 42 43 44 45 46 47 48 49\n",
       "  * j        (j) int64 0 1 2 3 4 5 6 7 8 9 10 ... 80 81 82 83 84 85 86 87 88 89\n",
       "  * i        (i) int64 0 1 2 3 4 5 6 7 8 9 10 ... 80 81 82 83 84 85 86 87 88 89"
      ]
     },
     "execution_count": 95,
     "metadata": {},
     "output_type": "execute_result"
    }
   ],
   "source": [
    "tendH"
   ]
  },
  {
   "cell_type": "code",
   "execution_count": 96,
   "metadata": {
    "collapsed": true,
    "deletable": true,
    "editable": true
   },
   "outputs": [],
   "source": [
    "tendH.time.values = ds.time.values\n",
    "\n",
    "# Add coordinates\n",
    "tendH['XC'] = lons\n",
    "tendH['YC'] = lats\n",
    "tendH['Z'] = coords.Z"
   ]
  },
  {
   "cell_type": "code",
   "execution_count": 97,
   "metadata": {
    "collapsed": false,
    "deletable": true,
    "editable": true
   },
   "outputs": [
    {
     "name": "stdout",
     "output_type": "stream",
     "text": [
      "CPU times: user 9 ms, sys: 20.2 ms, total: 29.2 ms\n",
      "Wall time: 163 ms\n"
     ]
    }
   ],
   "source": [
    "# Total tendency (degC/s)\n",
    "tendH.values[:,1:-1,:] = tendH_perSec.values\n",
    "%time tendH = tendH.load()\n",
    "#%time tendH.persist()"
   ]
  },
  {
   "cell_type": "code",
   "execution_count": 98,
   "metadata": {
    "collapsed": true,
    "deletable": true,
    "editable": true
   },
   "outputs": [],
   "source": [
    "# Convert from degC/s to W/m^2\n",
    "tendH = (rho0*c_p*drF*hFacC)*tendH"
   ]
  },
  {
   "cell_type": "markdown",
   "metadata": {
    "deletable": true,
    "editable": true
   },
   "source": [
    "### Forcing "
   ]
  },
  {
   "cell_type": "code",
   "execution_count": 99,
   "metadata": {
    "collapsed": true,
    "deletable": true,
    "editable": true
   },
   "outputs": [],
   "source": [
    "Z = coords.sel(face=facen).Z.load()\n",
    "RF = np.concatenate([coords.sel(face=facen).Zp1.values[:-1],[np.nan]])"
   ]
  },
  {
   "cell_type": "code",
   "execution_count": 100,
   "metadata": {
    "collapsed": true,
    "deletable": true,
    "editable": true
   },
   "outputs": [],
   "source": [
    "q1 = R*np.exp(1.0/zeta1*RF[:-1]) + (1.0-R)*np.exp(1.0/zeta2*RF[:-1])\n",
    "q2 = R*np.exp(1.0/zeta1*RF[1:]) + (1.0-R)*np.exp(1.0/zeta2*RF[1:])"
   ]
  },
  {
   "cell_type": "code",
   "execution_count": 101,
   "metadata": {
    "collapsed": true,
    "deletable": true,
    "editable": true
   },
   "outputs": [],
   "source": [
    "# Correction for the 200m cutoff\n",
    "zCut = np.where(Z < -200)[0][0]\n",
    "q1[zCut:] = 0\n",
    "q2[zCut-1:] = 0"
   ]
  },
  {
   "cell_type": "code",
   "execution_count": 102,
   "metadata": {
    "collapsed": true,
    "deletable": true,
    "editable": true
   },
   "outputs": [],
   "source": [
    "# Save q1 and q2 as xarray data arrays\n",
    "q1 = xr.DataArray(q1,coords=[Z.k],dims=['k'])\n",
    "q2 = xr.DataArray(q2,coords=[Z.k],dims=['k'])"
   ]
  },
  {
   "cell_type": "markdown",
   "metadata": {
    "deletable": true,
    "editable": true
   },
   "source": [
    "#### Compute vertically penetrating shortwave flux"
   ]
  },
  {
   "cell_type": "code",
   "execution_count": 103,
   "metadata": {
    "collapsed": true,
    "deletable": true,
    "editable": true
   },
   "outputs": [
    {
     "name": "stdout",
     "output_type": "stream",
     "text": [
      "CPU times: user 983 ms, sys: 2.55 s, total: 3.54 s\n",
      "Wall time: 5.16 s\n"
     ]
    },
    {
     "data": {
      "text/plain": [
       "<xarray.DataArray (face: 1, time: 288, k: 50, j: 90, i: 90)>\n",
       "array([[[[[154.299858, ..., 152.112656],\n",
       "          ...,\n",
       "          [  0.      , ...,   0.      ]],\n",
       "\n",
       "         ...,\n",
       "\n",
       "         [[  0.      , ...,   0.      ],\n",
       "          ...,\n",
       "          [  0.      , ...,   0.      ]]],\n",
       "\n",
       "\n",
       "        ...,\n",
       "\n",
       "\n",
       "        [[[135.067701, ..., 145.257584],\n",
       "          ...,\n",
       "          [  0.      , ...,   0.      ]],\n",
       "\n",
       "         ...,\n",
       "\n",
       "         [[  0.      , ...,   0.      ],\n",
       "          ...,\n",
       "          [  0.      , ...,   0.      ]]]]])\n",
       "Coordinates:\n",
       "  * k        (k) int64 0 1 2 3 4 5 6 7 8 9 10 ... 40 41 42 43 44 45 46 47 48 49\n",
       "  * face     (face) int64 2\n",
       "  * j        (j) int64 0 1 2 3 4 5 6 7 8 9 10 ... 80 81 82 83 84 85 86 87 88 89\n",
       "  * i        (i) int64 0 1 2 3 4 5 6 7 8 9 10 ... 80 81 82 83 84 85 86 87 88 89\n",
       "  * time     (time) datetime64[ns] 1992-01-15 1992-02-13 ... 2015-12-14"
      ]
     },
     "execution_count": 103,
     "metadata": {},
     "output_type": "execute_result"
    }
   ],
   "source": [
    "# Surface heat flux (below the surface)\n",
    "forcH = ((q1*(mskC==1)-q2*(mskC.shift(k=-1)==1))*oceQsw_anom).transpose('face', 'time','k','j','i')\n",
    "\n",
    "# Reset surface layer to zero\n",
    "#forcH.values[:,:,0] = 0*forcH.values[:,:,0]\n",
    "%time forcH.load()"
   ]
  },
  {
   "cell_type": "code",
   "execution_count": 104,
   "metadata": {
    "collapsed": true,
    "deletable": true,
    "editable": true
   },
   "outputs": [],
   "source": [
    "# Surface heat flux (at the sea surface)\n",
    "forcH[:,:,0] = ((Qs_anom - (1-(q1[0]-q2[0]))*oceQsw_anom)*mskC[0]).transpose('face', 'time','j','i')"
   ]
  },
  {
   "cell_type": "markdown",
   "metadata": {
    "deletable": true,
    "editable": true
   },
   "source": [
    "#### Load geothermal flux (may add later)"
   ]
  },
  {
   "cell_type": "code",
   "execution_count": 105,
   "metadata": {
    "collapsed": true,
    "deletable": true,
    "editable": true
   },
   "outputs": [],
   "source": [
    "# Create 3d bathymetry mask\n",
    "mskC_shifted = mskC.shift(k=-1)\n",
    "mskC_shifted.values[-1,:,:] = 0\n",
    "mskb = mskC - mskC_shifted"
   ]
  },
  {
   "cell_type": "code",
   "execution_count": 106,
   "metadata": {
    "collapsed": true,
    "deletable": true,
    "editable": true
   },
   "outputs": [],
   "source": [
    "geoflx2d = ds.GEOFLX.isel(face=facen) \n",
    "geoflx3d = geoflx2d * mskb\n",
    "GEOFLX = geoflx3d.transpose('face','k','j','i') #Geothermal heat flux. Can add this to forcing later."
   ]
  },
  {
   "cell_type": "markdown",
   "metadata": {
    "deletable": true,
    "editable": true
   },
   "source": [
    "### Advection"
   ]
  },
  {
   "cell_type": "markdown",
   "metadata": {
    "deletable": true,
    "editable": true
   },
   "source": [
    "#### Horizontal Convergence"
   ]
  },
  {
   "cell_type": "code",
   "execution_count": 107,
   "metadata": {
    "collapsed": true,
    "deletable": true,
    "editable": true
   },
   "outputs": [],
   "source": [
    "face_connections_subset = {'face':None}"
   ]
  },
  {
   "cell_type": "code",
   "execution_count": 108,
   "metadata": {
    "collapsed": false,
    "deletable": true,
    "editable": true
   },
   "outputs": [
    {
     "data": {
      "text/plain": [
       "{'face': {2: {'X': ((10, 'Y', False), (5, 'X', False)),\n",
       "   'Y': ((1, 'Y', False), (6, 'X', False))}}}"
      ]
     },
     "execution_count": 108,
     "metadata": {},
     "output_type": "execute_result"
    }
   ],
   "source": [
    "face_connections_subset['face'] = dict((k, face_connections['face'][k]) for k in facen if k in face_connections['face'])\n",
    "face_connections_subset"
   ]
  },
  {
   "cell_type": "code",
   "execution_count": 109,
   "metadata": {
    "collapsed": true,
    "deletable": true,
    "editable": true
   },
   "outputs": [],
   "source": [
    "# For now, construct grid based on only one face. Will change later. \n",
    "grid = xgcm.Grid(ds.isel(face=facen), periodic=False)"
   ]
  },
  {
   "cell_type": "code",
   "execution_count": 110,
   "metadata": {
    "collapsed": true,
    "deletable": true,
    "editable": true
   },
   "outputs": [],
   "source": [
    "# Convergence of horizontal advection (degC/s)\n",
    "#adv_hConvH = -(grid.diff(ADVx_TH_anom, 'X', boundary='fill') + \n",
    "#               grid.diff(ADVy_TH_anom, 'Y', boundary='fill'))/vol\n",
    "\n",
    "adv_hDivH = grid.diff_2d_vector({'X': ADVx_TH_anom, 'Y': ADVy_TH_anom}, boundary='extend')\n",
    "adv_hConvH = -(adv_hDivH['X'] + adv_hDivH['Y'])/vol\n",
    "\n",
    "\n",
    "\n",
    "#DF_TH_diff_anom = grid.diff_2d_vector({'X': DFxE_TH_anom, 'Y': DFyE_TH_anom}, boundary='fill')\n",
    "#DF_TH_conv_anom_vint = -((delz/v)*DF_TH_diff_anom['X']).sum(dim='k')-((delz/v)*DF_TH_diff_anom['Y']).sum(dim='k')"
   ]
  },
  {
   "cell_type": "code",
   "execution_count": 111,
   "metadata": {},
   "outputs": [
    {
     "data": {
      "text/plain": [
       "(288, 50, 1, 90, 90)"
      ]
     },
     "execution_count": 111,
     "metadata": {},
     "output_type": "execute_result"
    }
   ],
   "source": [
    "ADVy_TH_anom.shape"
   ]
  },
  {
   "cell_type": "code",
   "execution_count": 112,
   "metadata": {
    "collapsed": true,
    "deletable": true,
    "editable": true
   },
   "outputs": [],
   "source": [
    "# Convert from degC/s to W/m^2\n",
    "adv_hConvH = (rho0*c_p*drF*hFacC)*adv_hConvH"
   ]
  },
  {
   "cell_type": "markdown",
   "metadata": {
    "deletable": true,
    "editable": true
   },
   "source": [
    "#### Vertical Convergence"
   ]
  },
  {
   "cell_type": "code",
   "execution_count": 113,
   "metadata": {
    "collapsed": true,
    "deletable": true,
    "editable": true
   },
   "outputs": [],
   "source": [
    "# Convergence of the vertical advection (degC m^3/s)\n",
    "adv_vConvH = grid.diff(ADVr_TH_anom, 'Z', boundary='fill')/vol\n",
    "\n",
    "# Fix for bottom layer\n",
    "#adv_vConvH_temp.load()\n",
    "#adv_vConvH_temp[:,-1,:,:] = -ADVr_TH_anom[:,-1,:,:]"
   ]
  },
  {
   "cell_type": "code",
   "execution_count": 114,
   "metadata": {
    "collapsed": true,
    "deletable": true,
    "editable": true
   },
   "outputs": [],
   "source": [
    "# Convert from degC/s to W/m^2\n",
    "adv_vConvH = (rho0*c_p*drF*hFacC)*adv_vConvH"
   ]
  },
  {
   "cell_type": "markdown",
   "metadata": {
    "deletable": true,
    "editable": true
   },
   "source": [
    "### Diffusion"
   ]
  },
  {
   "cell_type": "markdown",
   "metadata": {
    "deletable": true,
    "editable": true
   },
   "source": [
    "#### Horizontal Convergence"
   ]
  },
  {
   "cell_type": "code",
   "execution_count": 115,
   "metadata": {
    "collapsed": true,
    "deletable": true,
    "editable": true
   },
   "outputs": [],
   "source": [
    "# Convergence of horizontal diffusion (degC/s)\n",
    "#dif_hConvH = -(grid.diff(DFxE_TH_anom, 'X', boundary='extend') + \n",
    "#               grid.diff(DFyE_TH_anom, 'Y', boundary='extend'))/vol\n",
    "\n",
    "dif_hDivH = grid.diff_2d_vector({'X': DFxE_TH_anom, 'Y': DFyE_TH_anom}, boundary='fill')\n",
    "dif_hConvH = -(dif_hDivH['X'] + dif_hDivH['Y'])/vol"
   ]
  },
  {
   "cell_type": "code",
   "execution_count": 116,
   "metadata": {
    "collapsed": true,
    "deletable": true,
    "editable": true
   },
   "outputs": [],
   "source": [
    "# Convert from degC/s to W/m^2\n",
    "dif_hConvH = (rho0*c_p*drF*hFacC)*dif_hConvH"
   ]
  },
  {
   "cell_type": "markdown",
   "metadata": {
    "deletable": true,
    "editable": true
   },
   "source": [
    "#### Vertical Convergence (explicit and implicit)"
   ]
  },
  {
   "cell_type": "code",
   "execution_count": 117,
   "metadata": {
    "collapsed": true,
    "deletable": true,
    "editable": true
   },
   "outputs": [],
   "source": [
    "# Convergence of vertical diffusion (degC/s)\n",
    "dif_vConvH = (grid.diff(DFrE_TH_anom, 'Z', boundary='extend') \n",
    "                   + grid.diff(DFrI_TH_anom, 'Z', boundary='extend'))/vol\n",
    "\n",
    "#Fix for bottom layer\n",
    "#dif_vConvH_temp.load()\n",
    "#dif_vConvH_temp[:,-1,:,:] = -(DFrE_TH_anom + DFrI_TH_anom)[:,-1,:,:]"
   ]
  },
  {
   "cell_type": "code",
   "execution_count": 118,
   "metadata": {
    "collapsed": true,
    "deletable": true,
    "editable": true
   },
   "outputs": [],
   "source": [
    "# Convert from degC/s to W/m^2\n",
    "dif_vConvH = (rho0*c_p*drF*hFacC)*dif_vConvH"
   ]
  },
  {
   "cell_type": "markdown",
   "metadata": {
    "deletable": true,
    "editable": true
   },
   "source": [
    "### Total Convergence"
   ]
  },
  {
   "cell_type": "code",
   "execution_count": 119,
   "metadata": {
    "collapsed": false,
    "deletable": true,
    "editable": true
   },
   "outputs": [
    {
     "name": "stdout",
     "output_type": "stream",
     "text": [
      "CPU times: user 23.6 s, sys: 29.9 s, total: 53.5 s\n",
      "Wall time: 1min 3s\n",
      "CPU times: user 27.5 s, sys: 21 s, total: 48.6 s\n",
      "Wall time: 51.9 s\n",
      "CPU times: user 0 ns, sys: 982 µs, total: 982 µs\n",
      "Wall time: 2.11 ms\n"
     ]
    },
    {
     "data": {
      "text/plain": [
       "<xarray.DataArray (k: 50, face: 1, j: 90, i: 90, time: 288)>\n",
       "array([[[[[  133.021551, ...,   117.315659],\n",
       "          ...,\n",
       "          [ -325.114951, ..., -1240.047049]],\n",
       "\n",
       "         ...,\n",
       "\n",
       "         [[         nan, ...,          nan],\n",
       "          ...,\n",
       "          [         nan, ...,          nan]]]],\n",
       "\n",
       "\n",
       "\n",
       "       ...,\n",
       "\n",
       "\n",
       "\n",
       "       [[[[         nan, ...,          nan],\n",
       "          ...,\n",
       "          [         nan, ...,          nan]],\n",
       "\n",
       "         ...,\n",
       "\n",
       "         [[         nan, ...,          nan],\n",
       "          ...,\n",
       "          [         nan, ...,          nan]]]]])\n",
       "Coordinates:\n",
       "  * k        (k) int64 0 1 2 3 4 5 6 7 8 9 10 ... 40 41 42 43 44 45 46 47 48 49\n",
       "  * face     (face) int64 2\n",
       "  * j        (j) int64 0 1 2 3 4 5 6 7 8 9 10 ... 80 81 82 83 84 85 86 87 88 89\n",
       "  * i        (i) int64 0 1 2 3 4 5 6 7 8 9 10 ... 80 81 82 83 84 85 86 87 88 89\n",
       "  * time     (time) datetime64[ns] 1992-01-15 1992-02-13 ... 2015-12-14"
      ]
     },
     "execution_count": 119,
     "metadata": {},
     "output_type": "execute_result"
    }
   ],
   "source": [
    "# Total convergence of advective flux\n",
    "adv_ConvH = adv_hConvH + adv_vConvH\n",
    "#adv_ConvH = adv_ConvH.transpose('time', 'k', 'j', 'i')\n",
    "%time adv_ConvH.load()\n",
    "#%time adv_ConvH.persist()\n",
    "\n",
    "# Total convergence of diffusive flux\n",
    "dif_ConvH = dif_hConvH + dif_vConvH\n",
    "#dif_ConvH = adv_ConvH.transpose('time', 'k', 'j', 'i')\n",
    "%time dif_ConvH.load()\n",
    "#%time dif_ConvH.persist()\n",
    "\n",
    "# Total convergence\n",
    "ConvH = adv_ConvH + dif_ConvH\n",
    "%time ConvH.load()\n",
    "#%time ConvH.persist()"
   ]
  },
  {
   "cell_type": "markdown",
   "metadata": {
    "deletable": true,
    "editable": true
   },
   "source": [
    "### Sum of Convergence and Forcing"
   ]
  },
  {
   "cell_type": "code",
   "execution_count": 120,
   "metadata": {
    "collapsed": true,
    "deletable": true,
    "editable": true
   },
   "outputs": [],
   "source": [
    "#GEOFLX_anom = 0\n",
    "#totalH = ConvH + forcH + GEOFLX_anom\n",
    "totalH = ConvH + forcH + GEOFLX\n",
    "#totalH = totalH.transpose('time', 'k', 'j', 'i')\n",
    "#%time totalH=totalH.load()\n",
    "#%time totalH.persist()"
   ]
  },
  {
   "cell_type": "code",
   "execution_count": 121,
   "metadata": {
    "collapsed": true,
    "deletable": true,
    "editable": true
   },
   "outputs": [],
   "source": [
    "#Error in W/m^2\n",
    "error = totalH-tendH"
   ]
  },
  {
   "cell_type": "code",
   "execution_count": 122,
   "metadata": {
    "collapsed": true,
    "deletable": true,
    "editable": true
   },
   "outputs": [
    {
     "name": "stdout",
     "output_type": "stream",
     "text": [
      "CPU times: user 1.25 s, sys: 5.13 s, total: 6.39 s\n",
      "Wall time: 6.37 s\n"
     ]
    },
    {
     "data": {
      "text/plain": [
       "<xarray.DataArray (face: 1, j: 90, i: 90)>\n",
       "dask.array<shape=(1, 90, 90), dtype=float64, chunksize=(1, 90, 90)>\n",
       "Coordinates:\n",
       "  * face     (face) int64 2\n",
       "  * j        (j) int64 0 1 2 3 4 5 6 7 8 9 10 ... 80 81 82 83 84 85 86 87 88 89\n",
       "  * i        (i) int64 0 1 2 3 4 5 6 7 8 9 10 ... 80 81 82 83 84 85 86 87 88 89\n",
       "    XC       (face, j, i) float32 -37.5 -36.5 -35.5 ... 51.44421 51.837925\n",
       "    YC       (face, j, i) float32 10.458642 10.458642 ... 67.53387 67.47211"
      ]
     },
     "execution_count": 122,
     "metadata": {},
     "output_type": "execute_result"
    }
   ],
   "source": [
    "# Plot sums of the error \n",
    "#mxlpoints = mxlpoints.isel(face=1)\n",
    "error_sum = error.sum(dim='k').sum(dim='time')\n",
    "%time error_sum.load()\n",
    "#%time error_sum.persist()"
   ]
  },
  {
   "cell_type": "code",
   "execution_count": 123,
   "metadata": {},
   "outputs": [
    {
     "data": {
      "text/plain": [
       "6.48e-05"
      ]
     },
     "execution_count": 123,
     "metadata": {},
     "output_type": "execute_result"
    }
   ],
   "source": [
    "error_sum.nbytes/1e9"
   ]
  },
  {
   "cell_type": "code",
   "execution_count": 124,
   "metadata": {},
   "outputs": [
    {
     "data": {
      "text/plain": [
       "0.93312"
      ]
     },
     "execution_count": 124,
     "metadata": {},
     "output_type": "execute_result"
    }
   ],
   "source": [
    "totalH.nbytes/1e9"
   ]
  },
  {
   "cell_type": "code",
   "execution_count": 125,
   "metadata": {},
   "outputs": [
    {
     "data": {
      "text/plain": [
       "0.93312"
      ]
     },
     "execution_count": 125,
     "metadata": {},
     "output_type": "execute_result"
    }
   ],
   "source": [
    "forcH.nbytes/1e9"
   ]
  },
  {
   "cell_type": "code",
   "execution_count": 126,
   "metadata": {
    "collapsed": true,
    "deletable": true,
    "editable": true
   },
   "outputs": [
    {
     "data": {
      "text/plain": [
       "(<cartopy.mpl.geoaxes.GeoAxesSubplot at 0x2b8f7f177748>,\n",
       " <cartopy.mpl.geoaxes.GeoAxesSubplot at 0x2b8f7f177748>)"
      ]
     },
     "execution_count": 126,
     "metadata": {},
     "output_type": "execute_result"
    },
    {
     "data": {
      "image/png": "[encoded data removed]",
      "text/plain": [
       "<Figure size 864x432 with 2 Axes>"
      ]
     },
     "metadata": {
      "needs_background": "light"
     },
     "output_type": "display_data"
    }
   ],
   "source": [
    "#(error_sum*land_mask)[1:89,1:89].plot.pcolormesh(vmin=-0.2, vmax=0.2, cmap='RdBu_r')\n",
    "#fig = ecco.plot_proj_to_latlon_grid(lons, lats, error_sum, \n",
    "#                              plot_type = 'pcolormesh', levels=31, cmin=-0.1, cmax=0.1,\n",
    "#                              bnds=bnds, cmap = plt.cm.RdBu_r, projection_type='PlateCaree',\n",
    "#                              show_colorbar=True, less_output=True)\n",
    "\n",
    "mapper(error_sum, cmap='RdBu_r', bnds=bnds, vmin=-0.1, vmax=0.1)"
   ]
  },
  {
   "cell_type": "code",
   "execution_count": null,
   "metadata": {},
   "outputs": [],
   "source": []
  },
  {
   "cell_type": "code",
   "execution_count": 128,
   "metadata": {
    "collapsed": true,
    "deletable": true,
    "editable": true
   },
   "outputs": [
    {
     "data": {
      "text/plain": [
       "<matplotlib.legend.Legend at 0x2b9097fa2438>"
      ]
     },
     "execution_count": 128,
     "metadata": {},
     "output_type": "execute_result"
    },
    {
     "data": {
      "image/png": "[encoded data removed]",
      "text/plain": [
       "<Figure size 1152x864 with 2 Axes>"
      ]
     },
     "metadata": {
      "needs_background": "light"
     },
     "output_type": "display_data"
    }
   ],
   "source": [
    "# Plot time series of the different terms for arbitrarily chosen grid point\n",
    "\n",
    "face=0\n",
    "k = 4\n",
    "j = 45\n",
    "i = 45\n",
    "\n",
    "f, axes = plt.subplots(2, 1,figsize=(16,12))\n",
    "f.tight_layout()\n",
    "\n",
    "adv_ConvH = adv_ConvH.transpose('face', 'time', 'k', 'j', 'i')\n",
    "dif_ConvH = dif_ConvH.transpose('face', 'time', 'k', 'j', 'i')\n",
    "totalH = totalH.transpose('face', 'time', 'k', 'j', 'i')\n",
    "tendH = tendH.transpose('face', 'time', 'k', 'j', 'i')\n",
    "\n",
    "plt.subplot(2, 1, 1)\n",
    "plt.plot(tendH.time, tendH.isel(face=face,k=k,j=j,i=i), lw=4, color='K', marker='.',label='total tendency')\n",
    "plt.plot(forcH.time, forcH.isel(face=face,k=k,j=j,i=i), lw=2, color='C0', marker='.',label='forcing')\n",
    "plt.plot(adv_ConvH.time, adv_ConvH.isel(face=face,k=k,j=j,i=i), lw=2, color='C1', marker='.',label='advection')\n",
    "plt.axhline(0,color='k',lw=1)\n",
    "plt.plot(dif_ConvH.time, dif_ConvH.isel(face=face,k=k,j=j,i=i), lw=2, color='C2',label='diffusion')\n",
    "plt.setp(plt.gca(), 'xticklabels',[])\n",
    "plt.legend(loc='best',frameon=False,fontsize=14)\n",
    "\n",
    "plt.subplot(2, 1, 2)\n",
    "plt.plot(totalH.time, totalH.isel(face=face,k=k,j=j,i=i), lw=4, color='red', marker='.',label='RHS')\n",
    "plt.plot(tendH.time, tendH.isel(face=face,k=k,j=j,i=i), lw=2, color='blue', marker='.',label='LHS')\n",
    "plt.plot(tendH.time, totalH.isel(face=face,k=k,j=j,i=i)-tendH.isel(face=face,k=k,j=j,i=i), lw=2, color='k', marker='.',label='RHS - LHS')\n",
    "plt.legend(loc='best',frameon=False,fontsize=14)"
   ]
  },
  {
   "cell_type": "markdown",
   "metadata": {
    "deletable": true,
    "editable": true
   },
   "source": [
    "## Evaluating the Temperature Variance Equation"
   ]
  },
  {
   "cell_type": "markdown",
   "metadata": {
    "deletable": true,
    "editable": true
   },
   "source": [
    "Now that we have shown that the heat budget is balanced, we return to the temperature variance equation:"
   ]
  },
  {
   "cell_type": "markdown",
   "metadata": {
    "deletable": true,
    "editable": true
   },
   "source": [
    "$\\large\n",
    "\\begin{align}\n",
    "\\sigma^2_T (z) = \\frac{\\Delta t^2}{2c_o(z) (1-r_1)} \\left(\\overline{\\frac{\\partial T'}{\\partial t} C'_{T,adv}} + \\overline{\\frac{\\partial T'}{\\partial t} C'_{T,diff}} + \\overline{\\frac{\\partial T'}{\\partial t} C'_{T,forc}}\\right)\n",
    "\\end{align}$"
   ]
  },
  {
   "cell_type": "markdown",
   "metadata": {
    "deletable": true,
    "editable": true
   },
   "source": [
    "Define some parameters:"
   ]
  },
  {
   "cell_type": "code",
   "execution_count": null,
   "metadata": {
    "collapsed": true,
    "deletable": true,
    "editable": true
   },
   "outputs": [],
   "source": [
    "T_anom, T_clim = st.anom(THETAsnp*sstar) "
   ]
  },
  {
   "cell_type": "code",
   "execution_count": null,
   "metadata": {
    "collapsed": true,
    "deletable": true,
    "editable": true
   },
   "outputs": [],
   "source": [
    "C_adv = adv_ConvH\n",
    "C_dif = dif_ConvH\n",
    "C_forc = forcH"
   ]
  },
  {
   "cell_type": "code",
   "execution_count": null,
   "metadata": {},
   "outputs": [],
   "source": [
    "adv_ConvH = adv_ConvH.chunk({'time':ntchunk, 'k':nkchunk, 'j':njchunk, 'i':nichunk})\n",
    "dif_ConvH = dif_ConvH.chunk({'time':ntchunk, 'k':nkchunk, 'j':njchunk, 'i':nichunk})\n",
    "forcH = forcH.chunk({'time':ntchunk, 'k':nkchunk, 'j':njchunk, 'i':nichunk})"
   ]
  },
  {
   "cell_type": "code",
   "execution_count": null,
   "metadata": {
    "collapsed": true,
    "deletable": true,
    "editable": true
   },
   "outputs": [],
   "source": [
    "c_o = rho0*c_p*drF*hFacC"
   ]
  },
  {
   "cell_type": "code",
   "execution_count": null,
   "metadata": {
    "collapsed": true,
    "deletable": true,
    "editable": true
   },
   "outputs": [],
   "source": [
    "T_anom = T_anom.transpose('time', 'face', 'k', 'j', 'i')"
   ]
  },
  {
   "cell_type": "code",
   "execution_count": null,
   "metadata": {
    "collapsed": true,
    "deletable": true,
    "editable": true
   },
   "outputs": [],
   "source": [
    "T_anom.shape"
   ]
  },
  {
   "cell_type": "code",
   "execution_count": null,
   "metadata": {
    "collapsed": true,
    "deletable": true,
    "editable": true
   },
   "outputs": [],
   "source": [
    "r_1 = st.cor(T_anom, T_anom,lagx=1).compute()\n",
    "r_1"
   ]
  },
  {
   "cell_type": "code",
   "execution_count": null,
   "metadata": {
    "collapsed": true,
    "deletable": true,
    "editable": true
   },
   "outputs": [],
   "source": [
    "# Convert from W/m^2 to K/s \n",
    "tendT = tendH/(c_o)"
   ]
  },
  {
   "cell_type": "code",
   "execution_count": null,
   "metadata": {},
   "outputs": [],
   "source": [
    "tendT = tendT.chunk({'time':ntchunk, 'k':nkchunk, 'j':njchunk, 'i':nichunk})"
   ]
  },
  {
   "cell_type": "code",
   "execution_count": null,
   "metadata": {
    "collapsed": true,
    "deletable": true,
    "editable": true
   },
   "outputs": [],
   "source": [
    "adv_ConvH = adv_ConvH.transpose('time', 'face', 'k', 'j', 'i')\n",
    "dif_ConvH = dif_ConvH.transpose('time', 'face', 'k', 'j', 'i')\n",
    "forcH = forcH.transpose('time', 'face', 'k', 'j', 'i')\n",
    "tendT = tendT.transpose('time', 'face', 'k', 'j', 'i')"
   ]
  },
  {
   "cell_type": "code",
   "execution_count": null,
   "metadata": {
    "collapsed": true,
    "deletable": true,
    "editable": true
   },
   "outputs": [],
   "source": [
    "C_adv_anom, C_adv_clim = st.anom(adv_ConvH)\n",
    "C_dif_anom, C_dif_clim = st.anom(dif_ConvH)\n",
    "C_forc_anom, C_forc_clim = st.anom(forcH)\n",
    "tendT_anom, tendT_clim = st.anom(tendT)"
   ]
  },
  {
   "cell_type": "code",
   "execution_count": null,
   "metadata": {
    "collapsed": true,
    "deletable": true,
    "editable": true
   },
   "outputs": [],
   "source": [
    "T_var = T_anom.var(dim='time')\n",
    "%time T_var.load()\n",
    "#%time T_var.persist()"
   ]
  },
  {
   "cell_type": "code",
   "execution_count": null,
   "metadata": {
    "collapsed": true,
    "deletable": true,
    "editable": true
   },
   "outputs": [],
   "source": [
    "C_adv_anom.nbytes/1e9"
   ]
  },
  {
   "cell_type": "code",
   "execution_count": null,
   "metadata": {
    "collapsed": true,
    "deletable": true,
    "editable": true
   },
   "outputs": [],
   "source": [
    "cov_adv = st.cov(tendT_anom, C_adv_anom)\n",
    "cov_dif = st.cov(tendT_anom, C_dif_anom)\n",
    "cov_forc = st.cov(tendT_anom, C_forc_anom)"
   ]
  },
  {
   "cell_type": "code",
   "execution_count": null,
   "metadata": {},
   "outputs": [],
   "source": [
    "cov_adv.nbytes/1e9"
   ]
  },
  {
   "cell_type": "code",
   "execution_count": null,
   "metadata": {},
   "outputs": [],
   "source": [
    "#%time cov_adv.persist()\n",
    "#%time cov_dif.persist()\n",
    "#%time cov_forc.persist()\n"
   ]
  },
  {
   "cell_type": "code",
   "execution_count": null,
   "metadata": {},
   "outputs": [],
   "source": [
    "%time cov_adv.load()\n",
    "%time cov_dif.load()\n",
    "%time cov_forc.load()"
   ]
  },
  {
   "cell_type": "code",
   "execution_count": null,
   "metadata": {
    "collapsed": true,
    "deletable": true,
    "editable": true
   },
   "outputs": [],
   "source": [
    "deltat = dt.mean()\n",
    "deltat.compute()"
   ]
  },
  {
   "cell_type": "code",
   "execution_count": null,
   "metadata": {
    "collapsed": true,
    "deletable": true,
    "editable": true
   },
   "outputs": [],
   "source": [
    "fac = (deltat**2/(2*c_o*(1-r_1)))\n",
    "fac.load()"
   ]
  },
  {
   "cell_type": "code",
   "execution_count": null,
   "metadata": {
    "collapsed": true,
    "deletable": true,
    "editable": true
   },
   "outputs": [],
   "source": [
    "T_var_sum = fac*(cov_adv + cov_dif + cov_forc)"
   ]
  },
  {
   "cell_type": "code",
   "execution_count": null,
   "metadata": {
    "collapsed": true,
    "deletable": true,
    "editable": true
   },
   "outputs": [],
   "source": [
    "%time T_var_sum.load()\n",
    "#%time T_var_sum.persist()"
   ]
  },
  {
   "cell_type": "code",
   "execution_count": null,
   "metadata": {
    "collapsed": true,
    "deletable": true,
    "editable": true
   },
   "outputs": [],
   "source": [
    "k=0\n",
    "mapper(T_var.isel(k=k), bnds=bnds, cmap='cubehelix_r', vmin=0,vmax=1.0)\n",
    "mapper(T_var_sum.isel(k=k), bnds=bnds, cmap='cubehelix_r', vmin=0,vmax=1.0)"
   ]
  },
  {
   "cell_type": "markdown",
   "metadata": {
    "deletable": true,
    "editable": true
   },
   "source": [
    "The temperature variance budget is clearly balanced! Let's take a look at the contribution due to each term."
   ]
  },
  {
   "cell_type": "code",
   "execution_count": null,
   "metadata": {
    "collapsed": true,
    "deletable": true,
    "editable": true
   },
   "outputs": [],
   "source": [
    "T_var_adv = fac*cov_adv\n",
    "T_var_dif = fac*cov_dif\n",
    "T_var_forc = fac*cov_forc"
   ]
  },
  {
   "cell_type": "markdown",
   "metadata": {
    "deletable": true,
    "editable": true
   },
   "source": [
    "### Contributions to temperature variance from advection, diffusion and surface forcing"
   ]
  },
  {
   "cell_type": "code",
   "execution_count": null,
   "metadata": {
    "collapsed": true,
    "deletable": true,
    "editable": true
   },
   "outputs": [],
   "source": [
    "k=0\n",
    "mapper(T_var_sum.isel(k=k), bnds=bnds, cmap='cubehelix_r', vmin=0,vmax=1.0)\n",
    "plt.title(r'temperature variance (K$^2$)')\n",
    "mapper(T_var_adv.isel(k=k), bnds=bnds, cmap='RdBu_r', vmin=-1.0,vmax=1.0)\n",
    "plt.title(r'advective contribution (K$^2$)')\n",
    "mapper(T_var_dif.isel(k=k), bnds=bnds, cmap='RdBu_r', vmin=-1.0,vmax=1.0)\n",
    "plt.title(r'diffusive contribution (K$^2$)')\n",
    "mapper(T_var_forc.isel(k=k), bnds=bnds, cmap='RdBu_r', vmin=-1.0,vmax=1.0)\n",
    "plt.title(r'surface forcing contribution (K$^2$)')"
   ]
  },
  {
   "cell_type": "markdown",
   "metadata": {
    "deletable": true,
    "editable": true
   },
   "source": [
    "### Contributions to ocean mixed layer temperature variance from advection, diffusion and surface forcing"
   ]
  },
  {
   "cell_type": "code",
   "execution_count": null,
   "metadata": {
    "collapsed": true,
    "deletable": true,
    "editable": true
   },
   "outputs": [],
   "source": [
    "mxlpoints = mxlpoints.isel(face=facen)\n",
    "delz = drF*hFacC\n",
    "delz=delz.where(mxlpoints)\n",
    "delz_sum = delz.sum(dim='k')"
   ]
  },
  {
   "cell_type": "code",
   "execution_count": null,
   "metadata": {
    "collapsed": true,
    "deletable": true,
    "editable": true
   },
   "outputs": [],
   "source": [
    "mxlpoints"
   ]
  },
  {
   "cell_type": "code",
   "execution_count": null,
   "metadata": {
    "collapsed": true,
    "deletable": true,
    "editable": true
   },
   "outputs": [],
   "source": [
    "weights = delz/delz_sum"
   ]
  },
  {
   "cell_type": "code",
   "execution_count": null,
   "metadata": {
    "collapsed": true,
    "deletable": true,
    "editable": true
   },
   "outputs": [],
   "source": [
    "T_var_mxl = (weights*T_var).where(mxlpoints).sum(dim='k')"
   ]
  },
  {
   "cell_type": "code",
   "execution_count": null,
   "metadata": {
    "collapsed": true,
    "deletable": true,
    "editable": true
   },
   "outputs": [],
   "source": [
    "T_var_adv_mxl = (weights*T_var_adv).where(mxlpoints).sum(dim='k')\n",
    "T_var_dif_mxl = (weights*T_var_dif).where(mxlpoints).sum(dim='k')\n",
    "T_var_forc_mxl = (weights*T_var_forc).where(mxlpoints).sum(dim='k')"
   ]
  },
  {
   "cell_type": "code",
   "execution_count": null,
   "metadata": {
    "collapsed": true,
    "deletable": true,
    "editable": true
   },
   "outputs": [],
   "source": [
    "T_var_sum_mxl = T_var_adv_mxl + T_var_dif_mxl + T_var_forc_mxl"
   ]
  },
  {
   "cell_type": "code",
   "execution_count": null,
   "metadata": {
    "collapsed": true,
    "deletable": true,
    "editable": true
   },
   "outputs": [],
   "source": [
    "#f, axes = plt.subplots(2,2,figsize=(16,12))\n",
    "#f.tight_layout()\n",
    "mapper(T_var_sum_mxl, bnds=bnds, cmap='cubehelix_r', vmin=0,vmax=1.0)\n",
    "plt.title(r'temperature variance (K$^2$)')\n",
    "\n",
    "mapper(T_var_adv_mxl, bnds=bnds, cmap='RdBu_r', vmin=-1.0,vmax=1.0)\n",
    "plt.title(r'advective contribution (K$^2$)')\n",
    "\n",
    "mapper(T_var_dif_mxl, bnds=bnds, cmap='RdBu_r', vmin=-1.0,vmax=1.0)\n",
    "plt.title(r'diffusive contribution (K$^2$)')\n",
    "\n",
    "mapper(T_var_forc_mxl, bnds=bnds, cmap='RdBu_r', vmin=-1.0,vmax=1.0)\n",
    "plt.title(r'surface forcing contribution (K$^2$)')"
   ]
  },
  {
   "cell_type": "code",
   "execution_count": null,
   "metadata": {
    "collapsed": true,
    "deletable": true,
    "editable": true
   },
   "outputs": [],
   "source": [
    "mapper(T_var_sum_mxl, bnds=bnds, cmap='cubehelix_r', vmin=0,vmax=1.0)\n",
    "plt.title(r'temperature variance (K$^2$)')\n",
    "mapper(T_var_adv_mxl + T_var_dif_mxl, bnds=bnds, cmap='RdBu_r', vmin=-1.0,vmax=1.0)\n",
    "plt.title(r'ocean dynamics (advective + diffusive) contribution (K$^2$)')\n",
    "mapper(T_var_forc_mxl, bnds=bnds, cmap='RdBu_r', vmin=-1.0,vmax=1.0)\n",
    "plt.title(r'surface forcing contribution (K$^2$)')"
   ]
  },
  {
   "cell_type": "code",
   "execution_count": null,
   "metadata": {},
   "outputs": [],
   "source": []
  }
 ],
 "metadata": {
  "kernelspec": {
   "display_name": "Python (pangeo)",
   "language": "python",
   "name": "pangeo"
  },
  "language_info": {
   "codemirror_mode": {
    "name": "ipython",
    "version": 3
   },
   "file_extension": ".py",
   "mimetype": "text/x-python",
   "name": "python",
   "nbconvert_exporter": "python",
   "pygments_lexer": "ipython3",
   "version": "3.7.3"
  }
 },
 "nbformat": 4,
 "nbformat_minor": 2
}
